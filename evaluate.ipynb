{
 "cells": [
  {
   "cell_type": "code",
   "execution_count": 4,
   "id": "ae8bea7c-339c-4298-b397-b215b9d8a933",
   "metadata": {
    "tags": []
   },
   "outputs": [],
   "source": [
    "import pandas as pd\n",
    "import numpy as np\n",
    "\n",
    "# import viz   \n",
    "import seaborn as sns\n",
    "import matplotlib.pyplot as plt\n",
    "\n",
    "from sklearn.model_selection import train_test_split\n",
    "from scipy.stats import pearsonr, spearmanr\n",
    "\n",
    "from scipy import stats\n",
    "from sklearn.metrics import mean_squared_error, r2_score, explained_variance_score\n",
    "\n",
    "from sklearn.linear_model import LinearRegression\n",
    "from sklearn.feature_selection import f_regression \n",
    "from math import sqrt\n",
    "import warnings\n",
    "warnings.filterwarnings('ignore')\n",
    "\n",
    "from sklearn.metrics import mean_squared_error\n",
    "\n",
    "import wrangle"
   ]
  },
  {
   "cell_type": "code",
   "execution_count": 9,
   "id": "218e53ad-4216-469a-b462-dc147df498b3",
   "metadata": {
    "tags": []
   },
   "outputs": [
    {
     "data": {
      "text/html": [
       "<div>\n",
       "<style scoped>\n",
       "    .dataframe tbody tr th:only-of-type {\n",
       "        vertical-align: middle;\n",
       "    }\n",
       "\n",
       "    .dataframe tbody tr th {\n",
       "        vertical-align: top;\n",
       "    }\n",
       "\n",
       "    .dataframe thead th {\n",
       "        text-align: right;\n",
       "    }\n",
       "</style>\n",
       "<table border=\"1\" class=\"dataframe\">\n",
       "  <thead>\n",
       "    <tr style=\"text-align: right;\">\n",
       "      <th></th>\n",
       "      <th>Unnamed: 0</th>\n",
       "      <th>bathroomcnt</th>\n",
       "      <th>bedroomcnt</th>\n",
       "      <th>calculatedfinishedsquarefeet</th>\n",
       "      <th>yearbuilt</th>\n",
       "      <th>taxamount</th>\n",
       "      <th>fips</th>\n",
       "      <th>taxvaluedollarcnt</th>\n",
       "    </tr>\n",
       "  </thead>\n",
       "  <tbody>\n",
       "    <tr>\n",
       "      <th>0</th>\n",
       "      <td>0</td>\n",
       "      <td>0.0</td>\n",
       "      <td>0.0</td>\n",
       "      <td>NaN</td>\n",
       "      <td>NaN</td>\n",
       "      <td>NaN</td>\n",
       "      <td>6037.0</td>\n",
       "      <td>27516.0</td>\n",
       "    </tr>\n",
       "    <tr>\n",
       "      <th>1</th>\n",
       "      <td>1</td>\n",
       "      <td>0.0</td>\n",
       "      <td>0.0</td>\n",
       "      <td>NaN</td>\n",
       "      <td>NaN</td>\n",
       "      <td>NaN</td>\n",
       "      <td>6037.0</td>\n",
       "      <td>10.0</td>\n",
       "    </tr>\n",
       "    <tr>\n",
       "      <th>2</th>\n",
       "      <td>2</td>\n",
       "      <td>0.0</td>\n",
       "      <td>0.0</td>\n",
       "      <td>NaN</td>\n",
       "      <td>NaN</td>\n",
       "      <td>NaN</td>\n",
       "      <td>6037.0</td>\n",
       "      <td>10.0</td>\n",
       "    </tr>\n",
       "    <tr>\n",
       "      <th>3</th>\n",
       "      <td>3</td>\n",
       "      <td>0.0</td>\n",
       "      <td>0.0</td>\n",
       "      <td>NaN</td>\n",
       "      <td>NaN</td>\n",
       "      <td>174.21</td>\n",
       "      <td>6037.0</td>\n",
       "      <td>2108.0</td>\n",
       "    </tr>\n",
       "    <tr>\n",
       "      <th>4</th>\n",
       "      <td>4</td>\n",
       "      <td>2.0</td>\n",
       "      <td>4.0</td>\n",
       "      <td>3633.0</td>\n",
       "      <td>2005.0</td>\n",
       "      <td>6941.39</td>\n",
       "      <td>6037.0</td>\n",
       "      <td>296425.0</td>\n",
       "    </tr>\n",
       "  </tbody>\n",
       "</table>\n",
       "</div>"
      ],
      "text/plain": [
       "   Unnamed: 0  bathroomcnt  bedroomcnt  calculatedfinishedsquarefeet  \\\n",
       "0           0          0.0         0.0                           NaN   \n",
       "1           1          0.0         0.0                           NaN   \n",
       "2           2          0.0         0.0                           NaN   \n",
       "3           3          0.0         0.0                           NaN   \n",
       "4           4          2.0         4.0                        3633.0   \n",
       "\n",
       "   yearbuilt  taxamount    fips  taxvaluedollarcnt  \n",
       "0        NaN        NaN  6037.0            27516.0  \n",
       "1        NaN        NaN  6037.0               10.0  \n",
       "2        NaN        NaN  6037.0               10.0  \n",
       "3        NaN     174.21  6037.0             2108.0  \n",
       "4     2005.0    6941.39  6037.0           296425.0  "
      ]
     },
     "execution_count": 9,
     "metadata": {},
     "output_type": "execute_result"
    }
   ],
   "source": [
    "# Load your zillow dataset\n",
    "\n",
    "df = pd.read_csv('zillow.csv')\n",
    "df.head()"
   ]
  },
  {
   "cell_type": "code",
   "execution_count": 17,
   "id": "430ed4c6-a99e-4dac-907b-503f121af0b5",
   "metadata": {
    "tags": []
   },
   "outputs": [
    {
     "data": {
      "text/html": [
       "<div>\n",
       "<style scoped>\n",
       "    .dataframe tbody tr th:only-of-type {\n",
       "        vertical-align: middle;\n",
       "    }\n",
       "\n",
       "    .dataframe tbody tr th {\n",
       "        vertical-align: top;\n",
       "    }\n",
       "\n",
       "    .dataframe thead th {\n",
       "        text-align: right;\n",
       "    }\n",
       "</style>\n",
       "<table border=\"1\" class=\"dataframe\">\n",
       "  <thead>\n",
       "    <tr style=\"text-align: right;\">\n",
       "      <th></th>\n",
       "      <th>Unnamed: 0</th>\n",
       "      <th>bathroomcnt</th>\n",
       "      <th>bedroomcnt</th>\n",
       "      <th>calculatedfinishedsquarefeet</th>\n",
       "      <th>yearbuilt</th>\n",
       "      <th>taxamount</th>\n",
       "      <th>fips</th>\n",
       "      <th>taxvaluedollarcnt</th>\n",
       "    </tr>\n",
       "  </thead>\n",
       "  <tbody>\n",
       "    <tr>\n",
       "      <th>4</th>\n",
       "      <td>4</td>\n",
       "      <td>2.0</td>\n",
       "      <td>4.0</td>\n",
       "      <td>3633.0</td>\n",
       "      <td>2005.0</td>\n",
       "      <td>6941.39</td>\n",
       "      <td>6037.0</td>\n",
       "      <td>296425.0</td>\n",
       "    </tr>\n",
       "    <tr>\n",
       "      <th>6</th>\n",
       "      <td>6</td>\n",
       "      <td>4.0</td>\n",
       "      <td>3.0</td>\n",
       "      <td>1620.0</td>\n",
       "      <td>2011.0</td>\n",
       "      <td>10244.94</td>\n",
       "      <td>6037.0</td>\n",
       "      <td>847770.0</td>\n",
       "    </tr>\n",
       "    <tr>\n",
       "      <th>7</th>\n",
       "      <td>7</td>\n",
       "      <td>2.0</td>\n",
       "      <td>3.0</td>\n",
       "      <td>2077.0</td>\n",
       "      <td>1926.0</td>\n",
       "      <td>7924.68</td>\n",
       "      <td>6037.0</td>\n",
       "      <td>646760.0</td>\n",
       "    </tr>\n",
       "    <tr>\n",
       "      <th>11</th>\n",
       "      <td>11</td>\n",
       "      <td>0.0</td>\n",
       "      <td>0.0</td>\n",
       "      <td>1200.0</td>\n",
       "      <td>1972.0</td>\n",
       "      <td>91.60</td>\n",
       "      <td>6037.0</td>\n",
       "      <td>5328.0</td>\n",
       "    </tr>\n",
       "    <tr>\n",
       "      <th>14</th>\n",
       "      <td>14</td>\n",
       "      <td>0.0</td>\n",
       "      <td>0.0</td>\n",
       "      <td>171.0</td>\n",
       "      <td>1973.0</td>\n",
       "      <td>255.17</td>\n",
       "      <td>6037.0</td>\n",
       "      <td>6920.0</td>\n",
       "    </tr>\n",
       "  </tbody>\n",
       "</table>\n",
       "</div>"
      ],
      "text/plain": [
       "    Unnamed: 0  bathroomcnt  bedroomcnt  calculatedfinishedsquarefeet  \\\n",
       "4            4          2.0         4.0                        3633.0   \n",
       "6            6          4.0         3.0                        1620.0   \n",
       "7            7          2.0         3.0                        2077.0   \n",
       "11          11          0.0         0.0                        1200.0   \n",
       "14          14          0.0         0.0                         171.0   \n",
       "\n",
       "    yearbuilt  taxamount    fips  taxvaluedollarcnt  \n",
       "4      2005.0    6941.39  6037.0           296425.0  \n",
       "6      2011.0   10244.94  6037.0           847770.0  \n",
       "7      1926.0    7924.68  6037.0           646760.0  \n",
       "11     1972.0      91.60  6037.0             5328.0  \n",
       "14     1973.0     255.17  6037.0             6920.0  "
      ]
     },
     "execution_count": 17,
     "metadata": {},
     "output_type": "execute_result"
    }
   ],
   "source": [
    "# Drop null values\n",
    "new_df = df.dropna()\n",
    "new_df.head()"
   ]
  },
  {
   "cell_type": "code",
   "execution_count": 23,
   "id": "66dc999a-26ed-4d10-916c-cdf84febfb69",
   "metadata": {},
   "outputs": [
    {
     "data": {
      "text/plain": [
       "((1198531, 8), (513657, 8), (428047, 8))"
      ]
     },
     "execution_count": 23,
     "metadata": {},
     "output_type": "execute_result"
    }
   ],
   "source": [
    "train, validate, test = wrangle.split_zillow_data(new_df)\n",
    "train.shape, validate.shape, test.shape"
   ]
  },
  {
   "cell_type": "code",
   "execution_count": 3,
   "id": "6033cae4-574e-4337-a2d7-e81acc0d2deb",
   "metadata": {
    "tags": []
   },
   "outputs": [],
   "source": [
    "# Fit a linear regression model (ordinary least squares) and compute yhat, predictions of taxvaluedollarcnt \n",
    "# using only calculatedfinishedsqft."
   ]
  },
  {
   "cell_type": "code",
   "execution_count": 24,
   "id": "fb54f8e2-dae5-480d-8650-af6610309f73",
   "metadata": {
    "tags": []
   },
   "outputs": [],
   "source": [
    "from sklearn.linear_model import LinearRegression"
   ]
  },
  {
   "cell_type": "code",
   "execution_count": 25,
   "id": "3b6e942d-9b7b-4814-a4a1-4c2a4a2f7f50",
   "metadata": {
    "tags": []
   },
   "outputs": [],
   "source": [
    "X = train[['calculatedfinishedsquarefeet']]\n",
    "y = train['taxvaluedollarcnt']"
   ]
  },
  {
   "cell_type": "code",
   "execution_count": 26,
   "id": "f2fc61f4-f8ad-43e0-a119-41d204a6a71a",
   "metadata": {
    "tags": []
   },
   "outputs": [],
   "source": [
    "# create the object\n",
    "lm = LinearRegression()\n",
    "# fit the object\n",
    "lm.fit(X, y)\n",
    "# use the object\n",
    "yhat = lm.predict(X)"
   ]
  },
  {
   "cell_type": "code",
   "execution_count": 27,
   "id": "dd8fca09-f5c0-4f12-b64b-50c5087e44d5",
   "metadata": {
    "tags": []
   },
   "outputs": [
    {
     "data": {
      "text/plain": [
       "array([306270.39980171, 390954.71935762, 514075.85385759, 533602.57802704,\n",
       "       332785.63577917, 372250.17304794, 343679.49242107, 639046.88854204,\n",
       "       409659.2656673 , 346968.20386014])"
      ]
     },
     "execution_count": 27,
     "metadata": {},
     "output_type": "execute_result"
    }
   ],
   "source": [
    "yhat[:10]"
   ]
  },
  {
   "cell_type": "code",
   "execution_count": null,
   "id": "d1d105ca-3add-47a3-b3b8-afc0a6fa8f75",
   "metadata": {},
   "outputs": [],
   "source": [
    "# Plot the residuals for the linear regression model that you made."
   ]
  },
  {
   "cell_type": "code",
   "execution_count": 28,
   "id": "9da7e981-4e18-4120-819f-aee060dba106",
   "metadata": {
    "tags": []
   },
   "outputs": [
    {
     "data": {
      "image/png": "[encoded data removed]",
      "text/plain": [
       "<Figure size 2000x2000 with 1 Axes>"
      ]
     },
     "metadata": {},
     "output_type": "display_data"
    }
   ],
   "source": [
    "# plot residuals the first way\n",
    "plt.figure(figsize=(20,20))\n",
    "plt.scatter(y, yhat)\n",
    "# x=x is y=y here, the cases where the vert axis matches the horiz axis\n",
    "plt.plot(y,y, ls=':')\n",
    "plt.title('Predicted Home Price as Actual Home Price Increases')\n",
    "plt.show()"
   ]
  },
  {
   "cell_type": "code",
   "execution_count": 29,
   "id": "b562582e-d753-424a-a60f-9a3ae424f002",
   "metadata": {
    "tags": []
   },
   "outputs": [
    {
     "data": {
      "image/png": "[encoded data removed]",
      "text/plain": [
       "<Figure size 1500x1500 with 1 Axes>"
      ]
     },
     "metadata": {},
     "output_type": "display_data"
    }
   ],
   "source": [
    "# plot them the other way\n",
    "plt.figure(figsize=(15,15))\n",
    "plt.scatter(y, (y-yhat))\n",
    "plt.axhline(0,ls=':')\n",
    "plt.title('Residuals as Home Price Increases')\n",
    "plt.xlabel('Home Price In USD')\n",
    "plt.ylabel('Residual')\n",
    "plt.show()"
   ]
  },
  {
   "cell_type": "code",
   "execution_count": null,
   "id": "701695b8-be23-42e8-9c13-26ee14be7fb1",
   "metadata": {},
   "outputs": [],
   "source": [
    "# Calculate the sum of squared errors, explained sum of squares, total sum of squares, mean squared error, \n",
    "# and root mean squared error."
   ]
  },
  {
   "cell_type": "code",
   "execution_count": 30,
   "id": "7f41b0fc-6814-4ec5-990f-6e1907b9adca",
   "metadata": {
    "tags": []
   },
   "outputs": [],
   "source": [
    "mean_baseline = y.mean()\n",
    "med_baseline = y.median()"
   ]
  },
  {
   "cell_type": "code",
   "execution_count": 31,
   "id": "a55bcd89-f27f-42cd-939c-6a03f29b6339",
   "metadata": {
    "tags": []
   },
   "outputs": [],
   "source": [
    "y_pred = pd.DataFrame(\n",
    "{\n",
    "    'y_act': y.values,\n",
    "    'yhat': yhat,\n",
    "    'mean_baseline' : mean_baseline,\n",
    "    'med_baseline': med_baseline\n",
    "}, index=train.index)"
   ]
  },
  {
   "cell_type": "code",
   "execution_count": 32,
   "id": "1b28927f-406f-4b92-8426-d98c5d00b310",
   "metadata": {
    "tags": []
   },
   "outputs": [],
   "source": [
    "# compute the error on these two baselines:\n",
    "mean_baseline_rmse = mean_squared_error(y_pred.mean_baseline, y) ** (1/2)\n",
    "med_baseline_rmse = mean_squared_error(y_pred.med_baseline, y) ** (1/2)"
   ]
  },
  {
   "cell_type": "code",
   "execution_count": 33,
   "id": "a86ec5b4-df52-4339-b984-ab666871b806",
   "metadata": {},
   "outputs": [
    {
     "data": {
      "text/plain": [
       "True"
      ]
     },
     "execution_count": 33,
     "metadata": {},
     "output_type": "execute_result"
    }
   ],
   "source": [
    "mean_baseline_rmse < med_baseline_rmse"
   ]
  },
  {
   "cell_type": "code",
   "execution_count": 34,
   "id": "8d9ee62d-0e53-48bf-aa97-cbbedeb99512",
   "metadata": {
    "tags": []
   },
   "outputs": [
    {
     "name": "stdout",
     "output_type": "stream",
     "text": [
      "Root mean squared error for the mean value of home price is $665377.941.\n"
     ]
    }
   ],
   "source": [
    "#  mean provides our best baseline,\n",
    "print(f'Root mean squared error for the mean value of home price is ${round(mean_baseline_rmse, 3)}.')"
   ]
  },
  {
   "cell_type": "code",
   "execution_count": null,
   "id": "458cdf37-4af8-479a-aaf4-a558441739de",
   "metadata": {},
   "outputs": [],
   "source": [
    "# Calculate the sum of squared errors, mean squared error, and root mean squared error for the baseline model \n",
    "# (i.e. a model that always predicts the average taxvaluedollarcnt amount)."
   ]
  },
  {
   "cell_type": "code",
   "execution_count": 35,
   "id": "8a80d7d8-7c20-4027-a3b4-adea9a00c078",
   "metadata": {
    "tags": []
   },
   "outputs": [
    {
     "data": {
      "text/plain": [
       "1198531"
      ]
     },
     "execution_count": 35,
     "metadata": {},
     "output_type": "execute_result"
    }
   ],
   "source": [
    "len(train)"
   ]
  },
  {
   "cell_type": "code",
   "execution_count": 36,
   "id": "dc1ef451-1288-4d94-8319-63036f81fd79",
   "metadata": {
    "tags": []
   },
   "outputs": [
    {
     "data": {
      "text/plain": [
       "1198531"
      ]
     },
     "execution_count": 36,
     "metadata": {},
     "output_type": "execute_result"
    }
   ],
   "source": [
    "train.shape[0]"
   ]
  },
  {
   "cell_type": "code",
   "execution_count": 37,
   "id": "a89f6d37-b945-4216-881b-5fc226168ca5",
   "metadata": {
    "tags": []
   },
   "outputs": [],
   "source": [
    "# Squared Errors, \n",
    "# residuals squared\n",
    "squared_errors = (y_pred['y_act'] - y_pred['yhat']) ** 2\n",
    "# Sum of Squared Error, \n",
    "sse = squared_errors.sum()\n",
    "# Mean Squared error, \n",
    "mse = sse / train.shape[0] #alternatively, len(train), y_pred.shape[0]\n",
    "# Root mean Squared Error\n",
    "# square root the mean squared error!\n",
    "rmse = mse**0.5"
   ]
  },
  {
   "cell_type": "code",
   "execution_count": 38,
   "id": "7d2c8f93-ad90-4c0e-9601-e7b4afdd8d51",
   "metadata": {
    "tags": []
   },
   "outputs": [
    {
     "data": {
      "text/plain": [
       "601237.3378573689"
      ]
     },
     "execution_count": 38,
     "metadata": {},
     "output_type": "execute_result"
    }
   ],
   "source": [
    "rmse"
   ]
  },
  {
   "cell_type": "code",
   "execution_count": null,
   "id": "b7ccb351-523c-4594-94d9-d5a47f9ef5e1",
   "metadata": {},
   "outputs": [],
   "source": [
    "# Write python code that compares the sum of squared errors for your model against the sum of squared errors \n",
    "# for the baseline model and outputs whether or not your model performs better than the baseline model."
   ]
  },
  {
   "cell_type": "code",
   "execution_count": 39,
   "id": "999ca0e0-8ff8-4200-8250-b67f8087fccc",
   "metadata": {
    "tags": []
   },
   "outputs": [
    {
     "data": {
      "text/plain": [
       "4.332525802923578e+17"
      ]
     },
     "execution_count": 39,
     "metadata": {},
     "output_type": "execute_result"
    }
   ],
   "source": [
    "sse"
   ]
  },
  {
   "cell_type": "code",
   "execution_count": 40,
   "id": "f99b0e58-557b-43e3-b957-88d79f2631c0",
   "metadata": {
    "tags": []
   },
   "outputs": [
    {
     "data": {
      "text/plain": [
       "Index(['y_act', 'yhat', 'mean_baseline', 'med_baseline'], dtype='object')"
      ]
     },
     "execution_count": 40,
     "metadata": {},
     "output_type": "execute_result"
    }
   ],
   "source": [
    "y_pred.columns"
   ]
  },
  {
   "cell_type": "code",
   "execution_count": 41,
   "id": "bdfa15ba-3cf3-41a6-bf68-49b302a3373a",
   "metadata": {
    "tags": []
   },
   "outputs": [],
   "source": [
    "# do that calculation again for our baseline\n",
    "# Squared Errors, \n",
    "# residuals squared\n",
    "squared_errors_bl = (y_pred['y_act'] - y_pred['mean_baseline']) ** 2\n",
    "# Sum of Squared Error, \n",
    "sse_bl = squared_errors_bl.sum()"
   ]
  },
  {
   "cell_type": "code",
   "execution_count": 42,
   "id": "9c91fcc3-4867-4788-9169-7205abaeec73",
   "metadata": {},
   "outputs": [
    {
     "data": {
      "text/plain": [
       "(4.332525802923578e+17, 5.306229983729182e+17)"
      ]
     },
     "execution_count": 42,
     "metadata": {},
     "output_type": "execute_result"
    }
   ],
   "source": [
    "sse, sse_bl"
   ]
  },
  {
   "cell_type": "code",
   "execution_count": 43,
   "id": "a21e1765-549a-4ce5-b293-717ac454d06d",
   "metadata": {},
   "outputs": [
    {
     "data": {
      "text/plain": [
       "True"
      ]
     },
     "execution_count": 43,
     "metadata": {},
     "output_type": "execute_result"
    }
   ],
   "source": [
    " sse_bl > sse"
   ]
  },
  {
   "cell_type": "code",
   "execution_count": null,
   "id": "edcdfaee-a1bb-4237-a9e5-cbf584fe994f",
   "metadata": {},
   "outputs": [],
   "source": [
    "# What is the amount of variance explained in your model?"
   ]
  },
  {
   "cell_type": "code",
   "execution_count": 44,
   "id": "f7b5afd8-a5f4-4888-9efc-880a9d20b916",
   "metadata": {
    "tags": []
   },
   "outputs": [],
   "source": [
    "# r^2 == ESS / TSS == ESS / (ESS + SSE)"
   ]
  },
  {
   "cell_type": "code",
   "execution_count": 45,
   "id": "db192f73-1fa1-4ec7-810f-1f30c6826c42",
   "metadata": {
    "tags": []
   },
   "outputs": [],
   "source": [
    "# ESS = Δ(y_pred, y_mean)\n",
    "ESS = ((y_pred['yhat'] - y_pred['mean_baseline']) ** 2).sum()"
   ]
  },
  {
   "cell_type": "code",
   "execution_count": 47,
   "id": "e5520574-8ee3-4414-a993-6089e7574fce",
   "metadata": {
    "tags": []
   },
   "outputs": [
    {
     "data": {
      "text/plain": [
       "9.73704180806503e+16"
      ]
     },
     "execution_count": 47,
     "metadata": {},
     "output_type": "execute_result"
    }
   ],
   "source": [
    "ESS"
   ]
  },
  {
   "cell_type": "code",
   "execution_count": 48,
   "id": "5a17b4fb-6b4c-47a0-ad71-fedbb807e3b5",
   "metadata": {
    "tags": []
   },
   "outputs": [
    {
     "data": {
      "text/plain": [
       "4.332525802923578e+17"
      ]
     },
     "execution_count": 48,
     "metadata": {},
     "output_type": "execute_result"
    }
   ],
   "source": [
    "sse"
   ]
  },
  {
   "cell_type": "code",
   "execution_count": 49,
   "id": "6f35c2a9-c84b-407a-80ca-8da86c5c4681",
   "metadata": {
    "tags": []
   },
   "outputs": [
    {
     "data": {
      "text/plain": [
       "0.18350206903810554"
      ]
     },
     "execution_count": 49,
     "metadata": {},
     "output_type": "execute_result"
    }
   ],
   "source": [
    "ESS / (ESS + sse)"
   ]
  },
  {
   "cell_type": "code",
   "execution_count": 50,
   "id": "1e380b40-4fa5-4eab-b8b7-86e99b070d27",
   "metadata": {
    "tags": []
   },
   "outputs": [
    {
     "data": {
      "text/plain": [
       "0.18350206903796717"
      ]
     },
     "execution_count": 50,
     "metadata": {},
     "output_type": "execute_result"
    }
   ],
   "source": [
    "# actual r_squared score\n",
    "r2_score(y, y_pred['yhat'])"
   ]
  },
  {
   "cell_type": "code",
   "execution_count": null,
   "id": "348f5068-f28d-4149-949d-80c51e0c4e0a",
   "metadata": {},
   "outputs": [],
   "source": [
    "# Is your model better than the baseline model?"
   ]
  },
  {
   "cell_type": "code",
   "execution_count": 51,
   "id": "e09a7f6e-db93-4bb3-835e-f7f262bbc7d7",
   "metadata": {
    "tags": []
   },
   "outputs": [],
   "source": [
    "# lets compare the rmse of our model \n",
    "# to the rmse of our baseline"
   ]
  },
  {
   "cell_type": "code",
   "execution_count": 52,
   "id": "88cd05ea-98ab-4898-8436-b8e00856767a",
   "metadata": {
    "tags": []
   },
   "outputs": [
    {
     "data": {
      "text/plain": [
       "True"
      ]
     },
     "execution_count": 52,
     "metadata": {},
     "output_type": "execute_result"
    }
   ],
   "source": [
    "mean_baseline_rmse > mean_squared_error(y, y_pred['yhat'], squared=False)"
   ]
  },
  {
   "cell_type": "code",
   "execution_count": 53,
   "id": "22390c6a-8a21-4da4-8252-fd544b0dbba4",
   "metadata": {
    "tags": []
   },
   "outputs": [
    {
     "data": {
      "text/plain": [
       "665377.9411719535"
      ]
     },
     "execution_count": 53,
     "metadata": {},
     "output_type": "execute_result"
    }
   ],
   "source": [
    "mean_baseline_rmse"
   ]
  },
  {
   "cell_type": "code",
   "execution_count": 54,
   "id": "cc10af04-b2f9-4697-b1fd-b3a244507dde",
   "metadata": {
    "tags": []
   },
   "outputs": [],
   "source": [
    "# we see that we have a reduction of error from our baseline to our \n",
    "# actual linear regression model.\n",
    "# visualuzation of our residuals do not quite match up to a perfect\n",
    "# idea of a regression, and we have significant amount of trend to capture"
   ]
  },
  {
   "cell_type": "code",
   "execution_count": null,
   "id": "c923bcaa-c240-4034-9e67-0dc0e7f2434d",
   "metadata": {},
   "outputs": [],
   "source": [
    "# Create a file named evaluate.py that contains the following functions."
   ]
  },
  {
   "cell_type": "code",
   "execution_count": 55,
   "id": "959b6026-8e58-47a3-aa55-5793d247f84f",
   "metadata": {
    "tags": []
   },
   "outputs": [],
   "source": [
    "def plot_residuals(y, yhat):\n",
    "    plt.figure(figsize=(15,15))\n",
    "    plt.scatter(y, (y-yhat))\n",
    "    plt.axhline(0,ls=':')\n",
    "    plt.title('Residuals as Home Price Increases')\n",
    "    plt.xlabel('Home Price In USD')\n",
    "    plt.ylabel('Residual')\n",
    "    plt.show()\n"
   ]
  },
  {
   "cell_type": "code",
   "execution_count": 56,
   "id": "71bdd4af-3fb1-4465-b1e9-a2e3ad3166c8",
   "metadata": {
    "tags": []
   },
   "outputs": [
    {
     "data": {
      "image/png": "[encoded data removed]",
      "text/plain": [
       "<Figure size 1500x1500 with 1 Axes>"
      ]
     },
     "metadata": {},
     "output_type": "display_data"
    }
   ],
   "source": [
    "plot_residuals(y, yhat)"
   ]
  },
  {
   "cell_type": "code",
   "execution_count": 57,
   "id": "9364aede-f96f-4f3d-9e2c-cfa6f1c0e95b",
   "metadata": {
    "tags": []
   },
   "outputs": [],
   "source": [
    "def regression_errors(y, yhat):\n",
    "    preds = pd.DataFrame({\n",
    "        'y': y,\n",
    "        'yhat': yhat,\n",
    "        'mean': y.mean()\n",
    "    })\n",
    "    \n",
    "    squared_errors = (preds['y'] - preds['yhat']) ** 2\n",
    "    # Sum of Squared Error, \n",
    "    sse = squared_errors.sum()\n",
    "    mse = sse / len(preds)\n",
    "    rmse = mse ** 0.5\n",
    "    ess = ((preds['yhat'] - preds['mean']) **2).sum()\n",
    "    tss = ess + sse\n",
    "    return sse, ess, tss, mse, rmse"
   ]
  },
  {
   "cell_type": "code",
   "execution_count": 58,
   "id": "6171ae95-34bb-40f6-a660-bee9846b238d",
   "metadata": {
    "tags": []
   },
   "outputs": [
    {
     "data": {
      "text/plain": [
       "(4.332525802923578e+17,\n",
       " 9.73704180806503e+16,\n",
       " 5.306229983730081e+17,\n",
       " 361486336433.8159,\n",
       " 601237.3378573689)"
      ]
     },
     "execution_count": 58,
     "metadata": {},
     "output_type": "execute_result"
    }
   ],
   "source": [
    "regression_errors(y, yhat)"
   ]
  },
  {
   "cell_type": "code",
   "execution_count": 59,
   "id": "b24bee76-9943-43c0-9371-e8185f6c7fc2",
   "metadata": {
    "tags": []
   },
   "outputs": [],
   "source": [
    "def baseline_mean_errors(y):\n",
    "    preds = pd.DataFrame({\n",
    "        'y': y,\n",
    "        'mean': y.mean()\n",
    "    })\n",
    "    \n",
    "    squared_errors_bl = (preds['y'] - preds['mean']) ** 2\n",
    "    # Sum of Squared Error, \n",
    "    sse = squared_errors_bl.sum()\n",
    "    mse = sse / len(preds)\n",
    "    rmse = mse ** 0.5\n",
    "    return sse, mse, rmse"
   ]
  },
  {
   "cell_type": "code",
   "execution_count": 60,
   "id": "866e0fe0-9950-4755-baad-81ed054d7fe0",
   "metadata": {
    "tags": []
   },
   "outputs": [
    {
     "data": {
      "text/plain": [
       "(5.306229983729182e+17, 442727804598.2275, 665377.9411719535)"
      ]
     },
     "execution_count": 60,
     "metadata": {},
     "output_type": "execute_result"
    }
   ],
   "source": [
    "baseline_mean_errors(y)"
   ]
  },
  {
   "cell_type": "code",
   "execution_count": 61,
   "id": "95e6361b-26fd-44da-9bde-af4bd0339f41",
   "metadata": {
    "tags": []
   },
   "outputs": [],
   "source": [
    "def better_than_baseline(y, yhat):\n",
    "    '''\n",
    "    return a boolean for if the model beats the baseline prediction\n",
    "    '''\n",
    "    rmse_model = mean_squared_error(y, yhat, squared=False)\n",
    "    sse, mse, rmse_baseline = baseline_mean_errors(y)\n",
    "    return (rmse_model < rmse_baseline)"
   ]
  },
  {
   "cell_type": "code",
   "execution_count": 62,
   "id": "feed6b4a-9060-4d87-841f-65cb814aa641",
   "metadata": {
    "tags": []
   },
   "outputs": [
    {
     "data": {
      "text/plain": [
       "True"
      ]
     },
     "execution_count": 62,
     "metadata": {},
     "output_type": "execute_result"
    }
   ],
   "source": [
    "better_than_baseline(y, yhat)"
   ]
  }
 ],
 "metadata": {
  "kernelspec": {
   "display_name": "Python 3 (ipykernel)",
   "language": "python",
   "name": "python3"
  },
  "language_info": {
   "codemirror_mode": {
    "name": "ipython",
    "version": 3
   },
   "file_extension": ".py",
   "mimetype": "text/x-python",
   "name": "python",
   "nbconvert_exporter": "python",
   "pygments_lexer": "ipython3",
   "version": "3.11.4"
  }
 },
 "nbformat": 4,
 "nbformat_minor": 5
}
