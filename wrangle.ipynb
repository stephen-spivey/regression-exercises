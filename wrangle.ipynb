{
 "cells": [
  {
   "cell_type": "code",
   "execution_count": 2,
   "id": "c6de9228-eacf-48e8-8f98-85751876184d",
   "metadata": {
    "tags": []
   },
   "outputs": [],
   "source": [
    "import warnings\n",
    "warnings.filterwarnings(\"ignore\")\n",
    "\n",
    "import pandas as pd\n",
    "import matplotlib.pyplot as plt\n",
    "import seaborn as sns\n",
    "import numpy as np\n",
    "import env"
   ]
  },
  {
   "cell_type": "code",
   "execution_count": null,
   "id": "2ee3e15f-4b75-4138-8a6b-9356f48c3dab",
   "metadata": {},
   "outputs": [],
   "source": [
    "# Acquire bedroomcnt, bathroomcnt, calculatedfinishedsquarefeet, taxvaluedollarcnt, yearbuilt, taxamount, and fips \n",
    "# from the zillow database for all 'Single Family Residential' properties."
   ]
  },
  {
   "cell_type": "code",
   "execution_count": 3,
   "id": "56918c01-52a0-4009-934d-e7cec4bea55d",
   "metadata": {
    "tags": []
   },
   "outputs": [],
   "source": [
    "# Read data from the properties_2017 table in the zillow database on our mySQL server. \n",
    "\n",
    "import os\n",
    "\n",
    "def get_db_url(db, username=env.username, host=env.host, password=env.password):\n",
    "    return f'mysql+pymysql://{username}:{password}@{host}/{db}'"
   ]
  },
  {
   "cell_type": "code",
   "execution_count": 4,
   "id": "56de1537-6bee-44ca-adcf-919129ca5a88",
   "metadata": {
    "tags": []
   },
   "outputs": [],
   "source": [
    "def get_zillow_data(filename, query, db):\n",
    "\n",
    "    if os.path.isfile(filename):\n",
    "\n",
    "        return pd.read_csv(filename)\n",
    "    else:\n",
    "        # Create the url\n",
    "        url = get_db_url(db)\n",
    "\n",
    "        # Read the SQL query into a dataframe\n",
    "        df = pd.read_sql(query, url)\n",
    "\n",
    "        # Write that dataframe to disk for later. Called \"caching\" the data for later.\n",
    "        df.to_csv(filename)\n",
    "\n",
    "        # Return the dataframe to the calling code\n",
    "        return df"
   ]
  },
  {
   "cell_type": "code",
   "execution_count": 5,
   "id": "0d3f5765-619d-4903-ac65-9534cceb5c09",
   "metadata": {
    "tags": []
   },
   "outputs": [],
   "source": [
    "filename = \"zillow.csv\"\n",
    "db = \"Zillow\"\n",
    "query = '''SELECT bathroomcnt, \n",
    "           calculatedfinishedsquarefeet, \n",
    "           yearbuilt, \n",
    "           taxamount, \n",
    "           fips, \n",
    "           taxvaluedollarcnt\n",
    "           FROM properties_2017'''"
   ]
  },
  {
   "cell_type": "code",
   "execution_count": 7,
   "id": "92526710-663b-4f97-b459-3251769f9a59",
   "metadata": {},
   "outputs": [],
   "source": [
    "df = get_zillow_data(filename, query, db)"
   ]
  },
  {
   "cell_type": "code",
   "execution_count": 8,
   "id": "4da1c3af-4454-4b23-91c3-91d36655e3af",
   "metadata": {},
   "outputs": [
    {
     "data": {
      "text/html": [
       "<div>\n",
       "<style scoped>\n",
       "    .dataframe tbody tr th:only-of-type {\n",
       "        vertical-align: middle;\n",
       "    }\n",
       "\n",
       "    .dataframe tbody tr th {\n",
       "        vertical-align: top;\n",
       "    }\n",
       "\n",
       "    .dataframe thead th {\n",
       "        text-align: right;\n",
       "    }\n",
       "</style>\n",
       "<table border=\"1\" class=\"dataframe\">\n",
       "  <thead>\n",
       "    <tr style=\"text-align: right;\">\n",
       "      <th></th>\n",
       "      <th>Unnamed: 0</th>\n",
       "      <th>bathroomcnt</th>\n",
       "      <th>bedroomcnt</th>\n",
       "      <th>calculatedfinishedsquarefeet</th>\n",
       "      <th>yearbuilt</th>\n",
       "      <th>taxamount</th>\n",
       "      <th>fips</th>\n",
       "      <th>taxvaluedollarcnt</th>\n",
       "    </tr>\n",
       "  </thead>\n",
       "  <tbody>\n",
       "    <tr>\n",
       "      <th>0</th>\n",
       "      <td>0</td>\n",
       "      <td>0.0</td>\n",
       "      <td>0.0</td>\n",
       "      <td>NaN</td>\n",
       "      <td>NaN</td>\n",
       "      <td>NaN</td>\n",
       "      <td>6037.0</td>\n",
       "      <td>27516.0</td>\n",
       "    </tr>\n",
       "    <tr>\n",
       "      <th>1</th>\n",
       "      <td>1</td>\n",
       "      <td>0.0</td>\n",
       "      <td>0.0</td>\n",
       "      <td>NaN</td>\n",
       "      <td>NaN</td>\n",
       "      <td>NaN</td>\n",
       "      <td>6037.0</td>\n",
       "      <td>10.0</td>\n",
       "    </tr>\n",
       "    <tr>\n",
       "      <th>2</th>\n",
       "      <td>2</td>\n",
       "      <td>0.0</td>\n",
       "      <td>0.0</td>\n",
       "      <td>NaN</td>\n",
       "      <td>NaN</td>\n",
       "      <td>NaN</td>\n",
       "      <td>6037.0</td>\n",
       "      <td>10.0</td>\n",
       "    </tr>\n",
       "    <tr>\n",
       "      <th>3</th>\n",
       "      <td>3</td>\n",
       "      <td>0.0</td>\n",
       "      <td>0.0</td>\n",
       "      <td>NaN</td>\n",
       "      <td>NaN</td>\n",
       "      <td>174.21</td>\n",
       "      <td>6037.0</td>\n",
       "      <td>2108.0</td>\n",
       "    </tr>\n",
       "    <tr>\n",
       "      <th>4</th>\n",
       "      <td>4</td>\n",
       "      <td>2.0</td>\n",
       "      <td>4.0</td>\n",
       "      <td>3633.0</td>\n",
       "      <td>2005.0</td>\n",
       "      <td>6941.39</td>\n",
       "      <td>6037.0</td>\n",
       "      <td>296425.0</td>\n",
       "    </tr>\n",
       "  </tbody>\n",
       "</table>\n",
       "</div>"
      ],
      "text/plain": [
       "   Unnamed: 0  bathroomcnt  bedroomcnt  calculatedfinishedsquarefeet  \\\n",
       "0           0          0.0         0.0                           NaN   \n",
       "1           1          0.0         0.0                           NaN   \n",
       "2           2          0.0         0.0                           NaN   \n",
       "3           3          0.0         0.0                           NaN   \n",
       "4           4          2.0         4.0                        3633.0   \n",
       "\n",
       "   yearbuilt  taxamount    fips  taxvaluedollarcnt  \n",
       "0        NaN        NaN  6037.0            27516.0  \n",
       "1        NaN        NaN  6037.0               10.0  \n",
       "2        NaN        NaN  6037.0               10.0  \n",
       "3        NaN     174.21  6037.0             2108.0  \n",
       "4     2005.0    6941.39  6037.0           296425.0  "
      ]
     },
     "execution_count": 8,
     "metadata": {},
     "output_type": "execute_result"
    }
   ],
   "source": [
    "df.head()"
   ]
  },
  {
   "cell_type": "code",
   "execution_count": null,
   "id": "595e9b33-10c7-48f4-a52b-171395ffbe78",
   "metadata": {},
   "outputs": [],
   "source": [
    "# Using your acquired Zillow data, walk through the summarization and cleaning steps in your wrangle.ipynb \n",
    "# file like we did above. You may handle the missing values however you feel is appropriate and meaningful; \n",
    "# remember to document your process and decisions using markdown and code commenting where helpful."
   ]
  },
  {
   "cell_type": "code",
   "execution_count": 9,
   "id": "609ca6bf-240a-4877-a7f0-02d6d9eb2014",
   "metadata": {},
   "outputs": [
    {
     "data": {
      "text/plain": [
       "Unnamed: 0                         0\n",
       "bathroomcnt                       11\n",
       "bedroomcnt                        11\n",
       "calculatedfinishedsquarefeet    8484\n",
       "yearbuilt                       9337\n",
       "taxamount                       4442\n",
       "fips                               0\n",
       "taxvaluedollarcnt                493\n",
       "dtype: int64"
      ]
     },
     "execution_count": 9,
     "metadata": {},
     "output_type": "execute_result"
    }
   ],
   "source": [
    "    # a. drop null values:\n",
    "df.isna().sum()"
   ]
  },
  {
   "cell_type": "code",
   "execution_count": 10,
   "id": "e8c0f847-17c4-4e42-bc32-30b235cb695f",
   "metadata": {
    "tags": []
   },
   "outputs": [],
   "source": [
    "df = df.dropna()"
   ]
  },
  {
   "cell_type": "code",
   "execution_count": 11,
   "id": "262723c3-bf2a-42df-9874-f8b1259dde46",
   "metadata": {
    "tags": []
   },
   "outputs": [
    {
     "name": "stdout",
     "output_type": "stream",
     "text": [
      "<class 'pandas.core.frame.DataFrame'>\n",
      "Int64Index: 2140235 entries, 4 to 2152862\n",
      "Data columns (total 8 columns):\n",
      " #   Column                        Non-Null Count    Dtype  \n",
      "---  ------                        --------------    -----  \n",
      " 0   Unnamed: 0                    2140235 non-null  int64  \n",
      " 1   bathroomcnt                   2140235 non-null  float64\n",
      " 2   bedroomcnt                    2140235 non-null  float64\n",
      " 3   calculatedfinishedsquarefeet  2140235 non-null  float64\n",
      " 4   yearbuilt                     2140235 non-null  float64\n",
      " 5   taxamount                     2140235 non-null  float64\n",
      " 6   fips                          2140235 non-null  float64\n",
      " 7   taxvaluedollarcnt             2140235 non-null  float64\n",
      "dtypes: float64(7), int64(1)\n",
      "memory usage: 147.0 MB\n"
     ]
    }
   ],
   "source": [
    "df.info(show_counts=True)"
   ]
  },
  {
   "cell_type": "code",
   "execution_count": null,
   "id": "a98ea36a-f36c-4528-9250-307dc0921ae5",
   "metadata": {},
   "outputs": [],
   "source": [
    "    # b. check data types"
   ]
  },
  {
   "cell_type": "code",
   "execution_count": 12,
   "id": "b9e10992-56d4-4783-be65-865bf7fcb325",
   "metadata": {
    "tags": []
   },
   "outputs": [
    {
     "data": {
      "text/plain": [
       "Unnamed: 0                        int64\n",
       "bathroomcnt                     float64\n",
       "bedroomcnt                      float64\n",
       "calculatedfinishedsquarefeet    float64\n",
       "yearbuilt                       float64\n",
       "taxamount                       float64\n",
       "fips                            float64\n",
       "taxvaluedollarcnt               float64\n",
       "dtype: object"
      ]
     },
     "execution_count": 12,
     "metadata": {},
     "output_type": "execute_result"
    }
   ],
   "source": [
    "df.dtypes"
   ]
  },
  {
   "cell_type": "code",
   "execution_count": 15,
   "id": "746baeff-3848-4be6-8798-567574c5614b",
   "metadata": {
    "tags": []
   },
   "outputs": [
    {
     "data": {
      "text/html": [
       "<div>\n",
       "<style scoped>\n",
       "    .dataframe tbody tr th:only-of-type {\n",
       "        vertical-align: middle;\n",
       "    }\n",
       "\n",
       "    .dataframe tbody tr th {\n",
       "        vertical-align: top;\n",
       "    }\n",
       "\n",
       "    .dataframe thead th {\n",
       "        text-align: right;\n",
       "    }\n",
       "</style>\n",
       "<table border=\"1\" class=\"dataframe\">\n",
       "  <thead>\n",
       "    <tr style=\"text-align: right;\">\n",
       "      <th></th>\n",
       "      <th>bathroomcnt</th>\n",
       "      <th>bedroomcnt</th>\n",
       "      <th>calculatedfinishedsquarefeet</th>\n",
       "      <th>yearbuilt</th>\n",
       "      <th>taxamount</th>\n",
       "      <th>fips</th>\n",
       "      <th>taxvaluedollarcnt</th>\n",
       "    </tr>\n",
       "  </thead>\n",
       "  <tbody>\n",
       "    <tr>\n",
       "      <th>4</th>\n",
       "      <td>2.0</td>\n",
       "      <td>4.0</td>\n",
       "      <td>3633.0</td>\n",
       "      <td>2005.0</td>\n",
       "      <td>6941.39</td>\n",
       "      <td>6037.0</td>\n",
       "      <td>296425.0</td>\n",
       "    </tr>\n",
       "    <tr>\n",
       "      <th>6</th>\n",
       "      <td>4.0</td>\n",
       "      <td>3.0</td>\n",
       "      <td>1620.0</td>\n",
       "      <td>2011.0</td>\n",
       "      <td>10244.94</td>\n",
       "      <td>6037.0</td>\n",
       "      <td>847770.0</td>\n",
       "    </tr>\n",
       "    <tr>\n",
       "      <th>7</th>\n",
       "      <td>2.0</td>\n",
       "      <td>3.0</td>\n",
       "      <td>2077.0</td>\n",
       "      <td>1926.0</td>\n",
       "      <td>7924.68</td>\n",
       "      <td>6037.0</td>\n",
       "      <td>646760.0</td>\n",
       "    </tr>\n",
       "    <tr>\n",
       "      <th>11</th>\n",
       "      <td>0.0</td>\n",
       "      <td>0.0</td>\n",
       "      <td>1200.0</td>\n",
       "      <td>1972.0</td>\n",
       "      <td>91.60</td>\n",
       "      <td>6037.0</td>\n",
       "      <td>5328.0</td>\n",
       "    </tr>\n",
       "    <tr>\n",
       "      <th>14</th>\n",
       "      <td>0.0</td>\n",
       "      <td>0.0</td>\n",
       "      <td>171.0</td>\n",
       "      <td>1973.0</td>\n",
       "      <td>255.17</td>\n",
       "      <td>6037.0</td>\n",
       "      <td>6920.0</td>\n",
       "    </tr>\n",
       "    <tr>\n",
       "      <th>...</th>\n",
       "      <td>...</td>\n",
       "      <td>...</td>\n",
       "      <td>...</td>\n",
       "      <td>...</td>\n",
       "      <td>...</td>\n",
       "      <td>...</td>\n",
       "      <td>...</td>\n",
       "    </tr>\n",
       "    <tr>\n",
       "      <th>2152856</th>\n",
       "      <td>4.0</td>\n",
       "      <td>4.0</td>\n",
       "      <td>4375.0</td>\n",
       "      <td>2015.0</td>\n",
       "      <td>13877.56</td>\n",
       "      <td>6037.0</td>\n",
       "      <td>422400.0</td>\n",
       "    </tr>\n",
       "    <tr>\n",
       "      <th>2152858</th>\n",
       "      <td>3.0</td>\n",
       "      <td>4.0</td>\n",
       "      <td>2262.0</td>\n",
       "      <td>2015.0</td>\n",
       "      <td>13494.52</td>\n",
       "      <td>6059.0</td>\n",
       "      <td>960756.0</td>\n",
       "    </tr>\n",
       "    <tr>\n",
       "      <th>2152859</th>\n",
       "      <td>4.5</td>\n",
       "      <td>4.0</td>\n",
       "      <td>3127.0</td>\n",
       "      <td>2014.0</td>\n",
       "      <td>6244.16</td>\n",
       "      <td>6059.0</td>\n",
       "      <td>536061.0</td>\n",
       "    </tr>\n",
       "    <tr>\n",
       "      <th>2152861</th>\n",
       "      <td>2.5</td>\n",
       "      <td>3.0</td>\n",
       "      <td>1974.0</td>\n",
       "      <td>2015.0</td>\n",
       "      <td>5302.70</td>\n",
       "      <td>6059.0</td>\n",
       "      <td>424353.0</td>\n",
       "    </tr>\n",
       "    <tr>\n",
       "      <th>2152862</th>\n",
       "      <td>4.0</td>\n",
       "      <td>4.0</td>\n",
       "      <td>2110.0</td>\n",
       "      <td>2014.0</td>\n",
       "      <td>6761.20</td>\n",
       "      <td>6037.0</td>\n",
       "      <td>554009.0</td>\n",
       "    </tr>\n",
       "  </tbody>\n",
       "</table>\n",
       "<p>2140235 rows × 7 columns</p>\n",
       "</div>"
      ],
      "text/plain": [
       "         bathroomcnt  bedroomcnt  calculatedfinishedsquarefeet  yearbuilt  \\\n",
       "4                2.0         4.0                        3633.0     2005.0   \n",
       "6                4.0         3.0                        1620.0     2011.0   \n",
       "7                2.0         3.0                        2077.0     1926.0   \n",
       "11               0.0         0.0                        1200.0     1972.0   \n",
       "14               0.0         0.0                         171.0     1973.0   \n",
       "...              ...         ...                           ...        ...   \n",
       "2152856          4.0         4.0                        4375.0     2015.0   \n",
       "2152858          3.0         4.0                        2262.0     2015.0   \n",
       "2152859          4.5         4.0                        3127.0     2014.0   \n",
       "2152861          2.5         3.0                        1974.0     2015.0   \n",
       "2152862          4.0         4.0                        2110.0     2014.0   \n",
       "\n",
       "         taxamount    fips  taxvaluedollarcnt  \n",
       "4          6941.39  6037.0           296425.0  \n",
       "6         10244.94  6037.0           847770.0  \n",
       "7          7924.68  6037.0           646760.0  \n",
       "11           91.60  6037.0             5328.0  \n",
       "14          255.17  6037.0             6920.0  \n",
       "...            ...     ...                ...  \n",
       "2152856   13877.56  6037.0           422400.0  \n",
       "2152858   13494.52  6059.0           960756.0  \n",
       "2152859    6244.16  6059.0           536061.0  \n",
       "2152861    5302.70  6059.0           424353.0  \n",
       "2152862    6761.20  6037.0           554009.0  \n",
       "\n",
       "[2140235 rows x 7 columns]"
      ]
     },
     "execution_count": 15,
     "metadata": {},
     "output_type": "execute_result"
    }
   ],
   "source": [
    "df.drop(columns='Unnamed: 0')"
   ]
  },
  {
   "cell_type": "code",
   "execution_count": 16,
   "id": "645900e1-cd7a-4475-8725-b38d2cc5a86a",
   "metadata": {
    "tags": []
   },
   "outputs": [
    {
     "data": {
      "text/plain": [
       "Unnamed: 0                        int64\n",
       "bathroomcnt                     float64\n",
       "bedroomcnt                      float64\n",
       "calculatedfinishedsquarefeet    float64\n",
       "yearbuilt                       float64\n",
       "taxamount                       float64\n",
       "fips                            float64\n",
       "taxvaluedollarcnt               float64\n",
       "dtype: object"
      ]
     },
     "execution_count": 16,
     "metadata": {},
     "output_type": "execute_result"
    }
   ],
   "source": [
    "df.dtypes"
   ]
  },
  {
   "cell_type": "code",
   "execution_count": 19,
   "id": "d2e99dd0-7658-43d4-9780-f3a2849b90b0",
   "metadata": {
    "tags": []
   },
   "outputs": [
    {
     "name": "stdout",
     "output_type": "stream",
     "text": [
      "Unnamed: 0 is good to go for int casting!\n",
      "============\n",
      "bathroomcnt has data that is probably not interpretable as an int! It has 10.748072057507702 percent mismatched values!\n",
      "============\n",
      "bedroomcnt is good to go for int casting!\n",
      "============\n",
      "calculatedfinishedsquarefeet is good to go for int casting!\n",
      "============\n",
      "yearbuilt is good to go for int casting!\n",
      "============\n",
      "taxamount has data that is probably not interpretable as an int! It has 98.66299728768102 percent mismatched values!\n",
      "============\n",
      "fips is good to go for int casting!\n",
      "============\n",
      "taxvaluedollarcnt is good to go for int casting!\n",
      "============\n"
     ]
    }
   ],
   "source": [
    "(df['fips'] != df['fips'].astype(int)).sum()\n",
    "cast_to_int = []\n",
    "for col in df.columns:\n",
    "    sum_of_discord = (df[col] != df[col].astype(int)).sum()\n",
    "    if sum_of_discord > 0:\n",
    "        print(f'{col} has data that is probably not interpretable as an int! It has {sum_of_discord / df.shape[0] * 100} percent mismatched values!')\n",
    "    else:\n",
    "        print(f'{col} is good to go for int casting!')\n",
    "        cast_to_int.append(col)\n",
    "    print('============')"
   ]
  },
  {
   "cell_type": "code",
   "execution_count": 20,
   "id": "76805bdc-abe3-4a93-9994-dccc44f083c9",
   "metadata": {
    "tags": []
   },
   "outputs": [
    {
     "data": {
      "text/plain": [
       "['Unnamed: 0',\n",
       " 'bedroomcnt',\n",
       " 'calculatedfinishedsquarefeet',\n",
       " 'yearbuilt',\n",
       " 'fips',\n",
       " 'taxvaluedollarcnt']"
      ]
     },
     "execution_count": 20,
     "metadata": {},
     "output_type": "execute_result"
    }
   ],
   "source": [
    "cast_to_int"
   ]
  },
  {
   "cell_type": "code",
   "execution_count": 21,
   "id": "5bbb15db-6c75-452e-a256-304946178f80",
   "metadata": {
    "tags": []
   },
   "outputs": [],
   "source": [
    "for col in cast_to_int:\n",
    "    df.loc[:,col] = df[col].astype(int)"
   ]
  },
  {
   "cell_type": "code",
   "execution_count": 22,
   "id": "5d546e2b-b1d4-4594-8122-d8c8094ef6b6",
   "metadata": {
    "tags": []
   },
   "outputs": [],
   "source": [
    "    # c. Rename columns\n",
    "df.columns\n",
    "df = df.rename(columns={\n",
    "    'bedroomcnt': 'bedrooms',\n",
    "    'bathroomcnt': 'bathrooms',\n",
    "    'calculatedfinishedsquarefeet': 'sqft',\n",
    "    'taxvaluedollarcnt': 'taxvalue',\n",
    "    'fips': 'county'\n",
    "})"
   ]
  },
  {
   "cell_type": "code",
   "execution_count": 26,
   "id": "75685a35-e7fb-45f7-ae8e-a7aa04c729fc",
   "metadata": {
    "tags": []
   },
   "outputs": [],
   "source": [
    "county_maps = {6037: 'LA',\n",
    "6059: 'Orange',\n",
    "6111: 'Ventura'\n",
    "}"
   ]
  },
  {
   "cell_type": "code",
   "execution_count": 27,
   "id": "a0b7bb2d-0f98-4863-b7c0-1c521805ed2e",
   "metadata": {
    "tags": []
   },
   "outputs": [],
   "source": [
    "df['county'] = df.county.map(county_maps)"
   ]
  },
  {
   "cell_type": "code",
   "execution_count": null,
   "id": "d5101fba-6ee3-4620-8acc-9f9a33e4bf48",
   "metadata": {},
   "outputs": [],
   "source": [
    "# Write a function to split your data into train, validate, and test."
   ]
  },
  {
   "cell_type": "code",
   "execution_count": 28,
   "id": "162264e3-f2a8-4182-a546-085d17f124aa",
   "metadata": {
    "tags": []
   },
   "outputs": [],
   "source": [
    "def split_zillow_data(df):\n",
    "    '''\n",
    "    take in a DataFrame and return train, validate, test DataFrames.\n",
    "    '''\n",
    "\n",
    "    # splits df into train_validate and test using train_test_split() stratifying on species to get an even mix of each species\n",
    "    train_validate, test = train_test_split(df, test_size=.2, random_state=1349)\n",
    "\n",
    "    # splits train_validate into train and validate using train_test_split() stratifying on species to get an even mix of each species\n",
    "    train, validate = train_test_split(train_validate, \n",
    "                                       test_size=.3, \n",
    "                                       random_state=1349)\n",
    "    return train, validate, test"
   ]
  },
  {
   "cell_type": "code",
   "execution_count": null,
   "id": "6b71c086-5689-453a-ac32-fa6591fb3a3d",
   "metadata": {},
   "outputs": [],
   "source": [
    "# Store all of the necessary functions to automate your process from acquiring the data to returning a cleaned \n",
    "# dataframe with no missing values in your wrangle.py file. Name your final function wrangle_zillow."
   ]
  },
  {
   "cell_type": "code",
   "execution_count": 29,
   "id": "f9be394f-95f5-40ea-99c3-f917edfd14c8",
   "metadata": {
    "tags": []
   },
   "outputs": [],
   "source": [
    "def get_zillow_data():\n",
    "    '''\n",
    "    This function acquires zillow.csv it is available\n",
    "    otherwise, it makes the SQL connection and uses the query provided\n",
    "    to read in the dataframe from SQL.\n",
    "    If they csv is not present, it will write one.\n",
    "    '''\n",
    "    filename = \"zillow_2017.csv\"\n",
    "\n",
    "    if os.path.isfile(filename):\n",
    "\n",
    "        return pd.read_csv(filename, index_col=0)\n",
    "    else:\n",
    "        # Create the url\n",
    "        db = 'zillow'\n",
    "        url = f'mysql+pymysql://{user}:{password}@{host}/{db}'\n",
    "        \n",
    "        sql_query = '''\n",
    "            SELECT bedroomcnt, bathroomcnt, calculatedfinishedsquarefeet, taxvaluedollarcnt, yearbuilt, taxamount, fips\n",
    "            FROM properties_2017\n",
    "            WHERE propertylandusetypeid = 261'''\n",
    "\n",
    "        # Read the SQL query into a dataframe\n",
    "        df = pd.read_sql(zillow_query, url)\n",
    "\n",
    "        # Write that dataframe to disk for later. Called \"caching\" the data for later.\n",
    "        df.to_csv(filename)\n",
    "\n",
    "        # Return the dataframe to the calling code\n",
    "        return df"
   ]
  },
  {
   "cell_type": "code",
   "execution_count": 30,
   "id": "cdb47838-b5cc-447d-980b-841b512d52a3",
   "metadata": {
    "tags": []
   },
   "outputs": [],
   "source": [
    "def prep_zillow(df):\n",
    "    '''\n",
    "    This function takes in a dataframe\n",
    "    renames the columns and drops nulls values\n",
    "    Additionally it changes datatypes for appropriate columns\n",
    "    and renames fips to actual county names.\n",
    "    Then returns a cleaned dataframe\n",
    "    '''\n",
    "    df = df.rename(columns = {'bedroomcnt':'bedrooms',\n",
    "                     'bathroomcnt':'bathrooms',\n",
    "                     'calculatedfinishedsquarefeet':'area',\n",
    "                     'taxvaluedollarcnt':'taxvalue',\n",
    "                     'fips':'county'})\n",
    "    \n",
    "    df = df.dropna()\n",
    "    \n",
    "    make_ints = ['bedrooms','area','taxvalue','yearbuilt']\n",
    "\n",
    "    for col in make_ints:\n",
    "        df[col] = df[col].astype(int)\n",
    "        \n",
    "    df.county = df.county.map({6037:'LA',6059:'Orange',6111:'Ventura'})\n",
    "    \n",
    "    return df"
   ]
  }
 ],
 "metadata": {
  "kernelspec": {
   "display_name": "Python 3 (ipykernel)",
   "language": "python",
   "name": "python3"
  },
  "language_info": {
   "codemirror_mode": {
    "name": "ipython",
    "version": 3
   },
   "file_extension": ".py",
   "mimetype": "text/x-python",
   "name": "python",
   "nbconvert_exporter": "python",
   "pygments_lexer": "ipython3",
   "version": "3.11.4"
  }
 },
 "nbformat": 4,
 "nbformat_minor": 5
}
