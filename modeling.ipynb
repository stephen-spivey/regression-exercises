{
 "cells": [
  {
   "cell_type": "code",
   "execution_count": 1,
   "id": "cc351dc9-b374-4246-9b5c-f0ce94809fba",
   "metadata": {
    "tags": []
   },
   "outputs": [],
   "source": [
    "# tabular data stuff\n",
    "import pandas as pd\n",
    "import numpy as np\n",
    "\n",
    "# viz libraries\n",
    "import matplotlib.pyplot as plt\n",
    "import seaborn as sns\n",
    "\n",
    "from sklearn.model_selection import train_test_split\n",
    "\n",
    "from sklearn.metrics import mean_squared_error, r2_score\n",
    "\n",
    "from pydataset import data\n",
    "\n",
    "import env\n",
    "import wrangle"
   ]
  },
  {
   "cell_type": "code",
   "execution_count": null,
   "id": "695ce022-40cc-42b6-bd13-b60dc8b0f981",
   "metadata": {},
   "outputs": [],
   "source": []
  },
  {
   "cell_type": "code",
   "execution_count": null,
   "id": "ef579867-d919-48fb-a5a6-7f8b8c364262",
   "metadata": {},
   "outputs": [],
   "source": [
    "# 1. Select a dataset with a continuous target variable."
   ]
  },
  {
   "cell_type": "code",
   "execution_count": 9,
   "id": "9bd0e7d3-a6ce-4769-bf36-b2901dd3a8c0",
   "metadata": {
    "tags": []
   },
   "outputs": [
    {
     "name": "stdout",
     "output_type": "stream",
     "text": [
      "tips\n",
      "\n",
      "PyDataset Documentation (adopted from R Documentation. The displayed examples are in R)\n",
      "\n",
      "## Tipping data\n",
      "\n",
      "### Description\n",
      "\n",
      "One waiter recorded information about each tip he received over a period of a\n",
      "few months working in one restaurant. He collected several variables:\n",
      "\n",
      "### Usage\n",
      "\n",
      "    data(tips)\n",
      "\n",
      "### Format\n",
      "\n",
      "A data frame with 244 rows and 7 variables\n",
      "\n",
      "### Details\n",
      "\n",
      "  * tip in dollars, \n",
      "\n",
      "  * bill in dollars, \n",
      "\n",
      "  * sex of the bill payer, \n",
      "\n",
      "  * whether there were smokers in the party, \n",
      "\n",
      "  * day of the week, \n",
      "\n",
      "  * time of day, \n",
      "\n",
      "  * size of the party. \n",
      "\n",
      "In all he recorded 244 tips. The data was reported in a collection of case\n",
      "studies for business statistics (Bryant & Smith 1995).\n",
      "\n",
      "### References\n",
      "\n",
      "Bryant, P. G. and Smith, M (1995) _Practical Data Analysis: Case Studies in\n",
      "Business Statistics_. Homewood, IL: Richard D. Irwin Publishing:\n",
      "\n",
      "\n"
     ]
    },
    {
     "data": {
      "text/html": [
       "<div>\n",
       "<style scoped>\n",
       "    .dataframe tbody tr th:only-of-type {\n",
       "        vertical-align: middle;\n",
       "    }\n",
       "\n",
       "    .dataframe tbody tr th {\n",
       "        vertical-align: top;\n",
       "    }\n",
       "\n",
       "    .dataframe thead th {\n",
       "        text-align: right;\n",
       "    }\n",
       "</style>\n",
       "<table border=\"1\" class=\"dataframe\">\n",
       "  <thead>\n",
       "    <tr style=\"text-align: right;\">\n",
       "      <th></th>\n",
       "      <th>total_bill</th>\n",
       "      <th>tip</th>\n",
       "      <th>sex</th>\n",
       "      <th>smoker</th>\n",
       "      <th>day</th>\n",
       "      <th>time</th>\n",
       "      <th>size</th>\n",
       "    </tr>\n",
       "  </thead>\n",
       "  <tbody>\n",
       "    <tr>\n",
       "      <th>0</th>\n",
       "      <td>16.99</td>\n",
       "      <td>1.01</td>\n",
       "      <td>Female</td>\n",
       "      <td>No</td>\n",
       "      <td>Sun</td>\n",
       "      <td>Dinner</td>\n",
       "      <td>2</td>\n",
       "    </tr>\n",
       "    <tr>\n",
       "      <th>1</th>\n",
       "      <td>10.34</td>\n",
       "      <td>1.66</td>\n",
       "      <td>Male</td>\n",
       "      <td>No</td>\n",
       "      <td>Sun</td>\n",
       "      <td>Dinner</td>\n",
       "      <td>3</td>\n",
       "    </tr>\n",
       "    <tr>\n",
       "      <th>2</th>\n",
       "      <td>21.01</td>\n",
       "      <td>3.50</td>\n",
       "      <td>Male</td>\n",
       "      <td>No</td>\n",
       "      <td>Sun</td>\n",
       "      <td>Dinner</td>\n",
       "      <td>3</td>\n",
       "    </tr>\n",
       "    <tr>\n",
       "      <th>3</th>\n",
       "      <td>23.68</td>\n",
       "      <td>3.31</td>\n",
       "      <td>Male</td>\n",
       "      <td>No</td>\n",
       "      <td>Sun</td>\n",
       "      <td>Dinner</td>\n",
       "      <td>2</td>\n",
       "    </tr>\n",
       "    <tr>\n",
       "      <th>4</th>\n",
       "      <td>24.59</td>\n",
       "      <td>3.61</td>\n",
       "      <td>Female</td>\n",
       "      <td>No</td>\n",
       "      <td>Sun</td>\n",
       "      <td>Dinner</td>\n",
       "      <td>4</td>\n",
       "    </tr>\n",
       "  </tbody>\n",
       "</table>\n",
       "</div>"
      ],
      "text/plain": [
       "   total_bill   tip     sex smoker  day    time  size\n",
       "0       16.99  1.01  Female     No  Sun  Dinner     2\n",
       "1       10.34  1.66    Male     No  Sun  Dinner     3\n",
       "2       21.01  3.50    Male     No  Sun  Dinner     3\n",
       "3       23.68  3.31    Male     No  Sun  Dinner     2\n",
       "4       24.59  3.61  Female     No  Sun  Dinner     4"
      ]
     },
     "execution_count": 9,
     "metadata": {},
     "output_type": "execute_result"
    }
   ],
   "source": [
    "tips = sns.load_dataset('tips')\n",
    "data('tips', show_doc = True)\n",
    "tips.head()"
   ]
  },
  {
   "cell_type": "code",
   "execution_count": 10,
   "id": "00f6260c-400b-43d5-832d-d573cef9be0f",
   "metadata": {
    "tags": []
   },
   "outputs": [
    {
     "name": "stdout",
     "output_type": "stream",
     "text": [
      "<class 'pandas.core.frame.DataFrame'>\n",
      "RangeIndex: 244 entries, 0 to 243\n",
      "Data columns (total 7 columns):\n",
      " #   Column      Non-Null Count  Dtype   \n",
      "---  ------      --------------  -----   \n",
      " 0   total_bill  244 non-null    float64 \n",
      " 1   tip         244 non-null    float64 \n",
      " 2   sex         244 non-null    category\n",
      " 3   smoker      244 non-null    category\n",
      " 4   day         244 non-null    category\n",
      " 5   time        244 non-null    category\n",
      " 6   size        244 non-null    int64   \n",
      "dtypes: category(4), float64(2), int64(1)\n",
      "memory usage: 7.4 KB\n"
     ]
    }
   ],
   "source": [
    "tips.info()\n",
    "# No null values found"
   ]
  },
  {
   "cell_type": "code",
   "execution_count": null,
   "id": "fc16679e-be1b-4ce8-9502-6f3d3e490d23",
   "metadata": {},
   "outputs": [],
   "source": [
    "# 2. Be sure your data is prepared (no missing values, numeric datatypes) and split into samples."
   ]
  },
  {
   "cell_type": "code",
   "execution_count": 11,
   "id": "5f3821f4-199f-43e2-9ba1-199448f65778",
   "metadata": {
    "tags": []
   },
   "outputs": [
    {
     "data": {
      "text/plain": [
       "((136, 7), (59, 7), (49, 7))"
      ]
     },
     "execution_count": 11,
     "metadata": {},
     "output_type": "execute_result"
    }
   ],
   "source": [
    "# split data\n",
    "train_validate, test = train_test_split(tips, test_size=.2, random_state=123)\n",
    "train, validate = train_test_split(train_validate, \n",
    "                                        test_size=.3, \n",
    "                                        random_state=123)\n",
    "train.shape, validate.shape, test.shape"
   ]
  },
  {
   "cell_type": "code",
   "execution_count": null,
   "id": "1ba35877-3ebd-4ff1-b167-734178e4f9b5",
   "metadata": {},
   "outputs": [],
   "source": [
    "# 3. Work through all of the steps outlined in the lesson, from setting the baseline to selected a model and evaluating the final model on your test data."
   ]
  },
  {
   "cell_type": "code",
   "execution_count": 12,
   "id": "1f014f2a-b2e9-4624-8a07-dbf58e9aa9c2",
   "metadata": {
    "tags": []
   },
   "outputs": [
    {
     "data": {
      "image/png": "[encoded data removed]",
      "text/plain": [
       "<Figure size 640x480 with 1 Axes>"
      ]
     },
     "metadata": {},
     "output_type": "display_data"
    }
   ],
   "source": [
    "    # a. plot the target variable ('tip')\n",
    "        # NOTE: This is not normally distributed\n",
    "\n",
    "plt.hist(train['tip'])\n",
    "plt.title('Distribution of Tip Amount')\n",
    "plt.show()"
   ]
  },
  {
   "cell_type": "code",
   "execution_count": null,
   "id": "0f9ac81f-b7d7-4938-a47c-81dacc8f246e",
   "metadata": {
    "tags": []
   },
   "outputs": [],
   "source": [
    "# If we see a good model, we will see a distribution of predictions\n",
    "# that should line up with our data,\n",
    "# but OLS as a vanilla algorithm may not be our best fit here\n",
    "# as it does presume normality in the distrbution of its target"
   ]
  },
  {
   "cell_type": "code",
   "execution_count": null,
   "id": "eb5d71ff-4f7a-42c9-b652-0840b4ae6aaa",
   "metadata": {},
   "outputs": [],
   "source": [
    "# QUESTION: What to do with categorical variables \"'sex', 'smoker', 'day' 'time\"\n",
    "# ANS: Remove them"
   ]
  },
  {
   "cell_type": "code",
   "execution_count": 39,
   "id": "700e8830-ba08-4111-8ddf-30b9466b815a",
   "metadata": {
    "tags": []
   },
   "outputs": [],
   "source": [
    "    # b. Establish baseline\n",
    "\n",
    "# split up our X and y:\n",
    "X = train.drop(columns=['sex', 'smoker', 'day', 'time', 'tip'])     # Remove 'tip' (target variable) from X\n",
    "y = train['tip']"
   ]
  },
  {
   "cell_type": "code",
   "execution_count": 40,
   "id": "9bb1d86a-762f-453f-b837-76575b7351c9",
   "metadata": {
    "tags": []
   },
   "outputs": [
    {
     "data": {
      "text/plain": [
       "2.946985294117647"
      ]
     },
     "execution_count": 40,
     "metadata": {},
     "output_type": "execute_result"
    }
   ],
   "source": [
    "# see which measurement (mean or mode) to select as the baseline\n",
    "y.mean()"
   ]
  },
  {
   "cell_type": "code",
   "execution_count": 41,
   "id": "5bdbf117-8611-451b-bba3-b5bb59d9b32a",
   "metadata": {
    "tags": []
   },
   "outputs": [
    {
     "data": {
      "text/plain": [
       "0    2.0\n",
       "Name: tip, dtype: float64"
      ]
     },
     "execution_count": 41,
     "metadata": {},
     "output_type": "execute_result"
    }
   ],
   "source": [
    "y.mode()"
   ]
  },
  {
   "cell_type": "code",
   "execution_count": 42,
   "id": "20447543-820c-45c3-95b7-a96f1279e74e",
   "metadata": {
    "tags": []
   },
   "outputs": [],
   "source": [
    "# We choose the mean as our baseline because it is the best measure of central tendency.\n",
    "# It includes all values in the data set for its calculation, and any change will affect the value of the mean.\n",
    "# Mode is the least used of the measures of central tendency and can only be applied to nominal \n",
    "# (qualitative data used to name or label variables without providing numeric values data. \n",
    "\n",
    "baseline = y.mean()"
   ]
  },
  {
   "cell_type": "code",
   "execution_count": 43,
   "id": "3802424b-5d56-4448-a24c-20cc59af7182",
   "metadata": {
    "tags": []
   },
   "outputs": [],
   "source": [
    "    # c. Evaluate\n",
    "\n",
    "# function returns root mean squared root (RMSE) and explained variance (r2) for two series  -- the actual value (y) \n",
    "# and the predicted value (yhat)"
   ]
  },
  {
   "cell_type": "code",
   "execution_count": 44,
   "id": "2ea1ef14-d9a4-437e-975e-f9084175494a",
   "metadata": {
    "tags": []
   },
   "outputs": [],
   "source": [
    "def evaluate_reg(y, yhat):\n",
    "    '''\n",
    "    based on two series, y_act, y_pred, (y, yhat), we\n",
    "    evaluate and return the root mean squared error\n",
    "    as well as the explained variance for the data.\n",
    "    \n",
    "    returns: rmse (float), rmse (float)\n",
    "    '''\n",
    "    rmse = mean_squared_error(y, yhat, squared=False)\n",
    "    r2 = r2_score(y, yhat)\n",
    "    return rmse, r2"
   ]
  },
  {
   "cell_type": "code",
   "execution_count": 45,
   "id": "b56ea6aa-02d5-4ce6-8fd3-7c133875a3f9",
   "metadata": {
    "tags": []
   },
   "outputs": [
    {
     "data": {
      "text/plain": [
       "(136,)"
      ]
     },
     "execution_count": 45,
     "metadata": {},
     "output_type": "execute_result"
    }
   ],
   "source": [
    "y.shape"
   ]
  },
  {
   "cell_type": "code",
   "execution_count": null,
   "id": "9c93353d-4de9-4491-8d50-e8260a230995",
   "metadata": {},
   "outputs": [],
   "source": []
  },
  {
   "cell_type": "code",
   "execution_count": 46,
   "id": "7922cc86-f0ae-459b-8a03-f64ccdf7d30a",
   "metadata": {
    "tags": []
   },
   "outputs": [],
   "source": [
    "# DON'T KNOW WHAT THIS IS DOING\n",
    "\n",
    "# make sure that we have a baseline guess\n",
    "# that is the same shape as our y variable:\n",
    "# np.repeat does what it sounds like\n",
    "baseline_array = np.repeat(baseline, y.shape[0])"
   ]
  },
  {
   "cell_type": "code",
   "execution_count": 47,
   "id": "cc3221c6-896f-41c7-9be3-b2f019ed346f",
   "metadata": {
    "tags": []
   },
   "outputs": [],
   "source": [
    "baseline_rmse, baseline_r2 = evaluate_reg(y, baseline_array)"
   ]
  },
  {
   "cell_type": "code",
   "execution_count": null,
   "id": "ab7eb41c-af70-437f-9692-2ce343ba51a7",
   "metadata": {},
   "outputs": [],
   "source": []
  },
  {
   "cell_type": "code",
   "execution_count": 48,
   "id": "b13ffd59-cd03-498f-8944-55365666253e",
   "metadata": {
    "tags": []
   },
   "outputs": [],
   "source": [
    "    # d. Create a dataframe to compare the models"
   ]
  },
  {
   "cell_type": "code",
   "execution_count": 49,
   "id": "fed77858-7768-40a8-8ea4-86a7c209dd11",
   "metadata": {
    "tags": []
   },
   "outputs": [],
   "source": [
    "eval_df = pd.DataFrame([{\n",
    "    'model': 'baseline',\n",
    "    'rmse': baseline_rmse,\n",
    "    'r2': baseline_r2\n",
    "}])"
   ]
  },
  {
   "cell_type": "code",
   "execution_count": 50,
   "id": "39fc5278-8614-494b-ad14-a49d86756739",
   "metadata": {
    "tags": []
   },
   "outputs": [
    {
     "data": {
      "text/html": [
       "<div>\n",
       "<style scoped>\n",
       "    .dataframe tbody tr th:only-of-type {\n",
       "        vertical-align: middle;\n",
       "    }\n",
       "\n",
       "    .dataframe tbody tr th {\n",
       "        vertical-align: top;\n",
       "    }\n",
       "\n",
       "    .dataframe thead th {\n",
       "        text-align: right;\n",
       "    }\n",
       "</style>\n",
       "<table border=\"1\" class=\"dataframe\">\n",
       "  <thead>\n",
       "    <tr style=\"text-align: right;\">\n",
       "      <th></th>\n",
       "      <th>model</th>\n",
       "      <th>rmse</th>\n",
       "      <th>r2</th>\n",
       "    </tr>\n",
       "  </thead>\n",
       "  <tbody>\n",
       "    <tr>\n",
       "      <th>0</th>\n",
       "      <td>baseline</td>\n",
       "      <td>1.451246</td>\n",
       "      <td>0.0</td>\n",
       "    </tr>\n",
       "  </tbody>\n",
       "</table>\n",
       "</div>"
      ],
      "text/plain": [
       "      model      rmse   r2\n",
       "0  baseline  1.451246  0.0"
      ]
     },
     "execution_count": 50,
     "metadata": {},
     "output_type": "execute_result"
    }
   ],
   "source": [
    "eval_df"
   ]
  },
  {
   "cell_type": "code",
   "execution_count": null,
   "id": "801d4e8d-44df-430c-a1d6-a4432335a19d",
   "metadata": {},
   "outputs": [],
   "source": []
  },
  {
   "cell_type": "code",
   "execution_count": 51,
   "id": "2aba6b4a-d329-413f-ade7-9d409dad6e1c",
   "metadata": {
    "tags": []
   },
   "outputs": [],
   "source": [
    "# OLS (Ordinary Least Squares) is our standard linear regression algorithm and is computed by minimizing the sum of squared differences \n",
    "# in the linear model (residual) with the actual data points"
   ]
  },
  {
   "cell_type": "code",
   "execution_count": 52,
   "id": "b0ae628a-1c4c-4fa2-b9ed-1bc5d945c7b4",
   "metadata": {
    "tags": []
   },
   "outputs": [],
   "source": [
    "from sklearn.linear_model import LinearRegression"
   ]
  },
  {
   "cell_type": "code",
   "execution_count": 53,
   "id": "2f229d21-8244-4ebe-85e2-2f87a6baed75",
   "metadata": {},
   "outputs": [],
   "source": [
    "    # e. Find the best feature"
   ]
  },
  {
   "cell_type": "code",
   "execution_count": 57,
   "id": "34d580d4-cc6d-4a1b-b200-3c2c34b0ed91",
   "metadata": {
    "tags": []
   },
   "outputs": [],
   "source": [
    "# initial ML model\n",
    "lr1 = LinearRegression()     # lr1 is my next model I'm testing\n",
    "\n",
    "# rfe has entered the chat:\n",
    "rfe = RFE(lr1, n_features_to_select=1)     # I'm using recursive feature elimination (RFE) to construct it\n",
    "\n",
    "# fit\n",
    "rfe.fit(X, y)     # Here I'm fitting the model onto my X and y (from baseline)\n",
    "\n",
    "# transform\n",
    "X_train_rfe = rfe.transform(X)     # WHAT AM I DOING HERE\n",
    "\n",
    "X_val_rfe = rfe.transform(validate.drop(columns=['sex', 'smoker', 'day', 'time','tip']))     # WHAT AM I DOING HERE\n",
    "                                                                                             # Remove 'tip' (target variable) from X"
   ]
  },
  {
   "cell_type": "code",
   "execution_count": 58,
   "id": "4755fc29-649a-4bef-9029-ed7bd15fe1fe",
   "metadata": {
    "tags": []
   },
   "outputs": [
    {
     "data": {
      "text/plain": [
       "18     3.50\n",
       "172    5.15\n",
       "118    1.80\n",
       "28     4.30\n",
       "237    1.17\n",
       "Name: tip, dtype: float64"
      ]
     },
     "execution_count": 58,
     "metadata": {},
     "output_type": "execute_result"
    }
   ],
   "source": [
    "y.head()"
   ]
  },
  {
   "cell_type": "code",
   "execution_count": 61,
   "id": "0ac41f00-bb57-4a1c-a89e-e14993d622a4",
   "metadata": {
    "tags": []
   },
   "outputs": [
    {
     "data": {
      "text/plain": [
       "array([[3.],\n",
       "       [2.],\n",
       "       [2.],\n",
       "       [2.],\n",
       "       [2.]])"
      ]
     },
     "execution_count": 61,
     "metadata": {},
     "output_type": "execute_result"
    }
   ],
   "source": [
    "X_train_rfe[:5]"
   ]
  },
  {
   "cell_type": "code",
   "execution_count": null,
   "id": "552c51b9-5169-4eaf-9976-397f770e15c3",
   "metadata": {},
   "outputs": [],
   "source": []
  },
  {
   "cell_type": "code",
   "execution_count": 62,
   "id": "ee1a2e9b-69aa-4f1a-b320-da75e46f900f",
   "metadata": {
    "tags": []
   },
   "outputs": [
    {
     "data": {
      "text/plain": [
       "array(['size'], dtype=object)"
      ]
     },
     "execution_count": 62,
     "metadata": {},
     "output_type": "execute_result"
    }
   ],
   "source": [
    "# which features did it select?\n",
    "rfe.get_feature_names_out()"
   ]
  },
  {
   "cell_type": "code",
   "execution_count": null,
   "id": "8ca0d883-da18-4ffc-a5e2-0e41260bd2db",
   "metadata": {},
   "outputs": [],
   "source": [
    "# Size is the strongest feature correlated to tip using RFE"
   ]
  },
  {
   "cell_type": "code",
   "execution_count": 63,
   "id": "ff39c31e-ad38-45d4-8269-95a107e9d0ca",
   "metadata": {
    "tags": []
   },
   "outputs": [],
   "source": [
    "# Make a X and y for the validate and test data sets:\n",
    "X_val, y_val = validate.drop(\n",
    "    columns=['sex', 'smoker', 'day', 'time', 'tip']\n",
    "), validate['tip']\n",
    "X_test, y_test = test.drop(\n",
    "    columns=['sex', 'smoker', 'day', 'time', 'tip']\n",
    "), test['tip']"
   ]
  },
  {
   "cell_type": "code",
   "execution_count": 66,
   "id": "64260d6b-9ac8-4178-89a4-03767b253a24",
   "metadata": {
    "tags": []
   },
   "outputs": [
    {
     "data": {
      "text/html": [
       "<style>#sk-container-id-2 {color: black;}#sk-container-id-2 pre{padding: 0;}#sk-container-id-2 div.sk-toggleable {background-color: white;}#sk-container-id-2 label.sk-toggleable__label {cursor: pointer;display: block;width: 100%;margin-bottom: 0;padding: 0.3em;box-sizing: border-box;text-align: center;}#sk-container-id-2 label.sk-toggleable__label-arrow:before {content: \"▸\";float: left;margin-right: 0.25em;color: #696969;}#sk-container-id-2 label.sk-toggleable__label-arrow:hover:before {color: black;}#sk-container-id-2 div.sk-estimator:hover label.sk-toggleable__label-arrow:before {color: black;}#sk-container-id-2 div.sk-toggleable__content {max-height: 0;max-width: 0;overflow: hidden;text-align: left;background-color: #f0f8ff;}#sk-container-id-2 div.sk-toggleable__content pre {margin: 0.2em;color: black;border-radius: 0.25em;background-color: #f0f8ff;}#sk-container-id-2 input.sk-toggleable__control:checked~div.sk-toggleable__content {max-height: 200px;max-width: 100%;overflow: auto;}#sk-container-id-2 input.sk-toggleable__control:checked~label.sk-toggleable__label-arrow:before {content: \"▾\";}#sk-container-id-2 div.sk-estimator input.sk-toggleable__control:checked~label.sk-toggleable__label {background-color: #d4ebff;}#sk-container-id-2 div.sk-label input.sk-toggleable__control:checked~label.sk-toggleable__label {background-color: #d4ebff;}#sk-container-id-2 input.sk-hidden--visually {border: 0;clip: rect(1px 1px 1px 1px);clip: rect(1px, 1px, 1px, 1px);height: 1px;margin: -1px;overflow: hidden;padding: 0;position: absolute;width: 1px;}#sk-container-id-2 div.sk-estimator {font-family: monospace;background-color: #f0f8ff;border: 1px dotted black;border-radius: 0.25em;box-sizing: border-box;margin-bottom: 0.5em;}#sk-container-id-2 div.sk-estimator:hover {background-color: #d4ebff;}#sk-container-id-2 div.sk-parallel-item::after {content: \"\";width: 100%;border-bottom: 1px solid gray;flex-grow: 1;}#sk-container-id-2 div.sk-label:hover label.sk-toggleable__label {background-color: #d4ebff;}#sk-container-id-2 div.sk-serial::before {content: \"\";position: absolute;border-left: 1px solid gray;box-sizing: border-box;top: 0;bottom: 0;left: 50%;z-index: 0;}#sk-container-id-2 div.sk-serial {display: flex;flex-direction: column;align-items: center;background-color: white;padding-right: 0.2em;padding-left: 0.2em;position: relative;}#sk-container-id-2 div.sk-item {position: relative;z-index: 1;}#sk-container-id-2 div.sk-parallel {display: flex;align-items: stretch;justify-content: center;background-color: white;position: relative;}#sk-container-id-2 div.sk-item::before, #sk-container-id-2 div.sk-parallel-item::before {content: \"\";position: absolute;border-left: 1px solid gray;box-sizing: border-box;top: 0;bottom: 0;left: 50%;z-index: -1;}#sk-container-id-2 div.sk-parallel-item {display: flex;flex-direction: column;z-index: 1;position: relative;background-color: white;}#sk-container-id-2 div.sk-parallel-item:first-child::after {align-self: flex-end;width: 50%;}#sk-container-id-2 div.sk-parallel-item:last-child::after {align-self: flex-start;width: 50%;}#sk-container-id-2 div.sk-parallel-item:only-child::after {width: 0;}#sk-container-id-2 div.sk-dashed-wrapped {border: 1px dashed gray;margin: 0 0.4em 0.5em 0.4em;box-sizing: border-box;padding-bottom: 0.4em;background-color: white;}#sk-container-id-2 div.sk-label label {font-family: monospace;font-weight: bold;display: inline-block;line-height: 1.2em;}#sk-container-id-2 div.sk-label-container {text-align: center;}#sk-container-id-2 div.sk-container {/* jupyter's `normalize.less` sets `[hidden] { display: none; }` but bootstrap.min.css set `[hidden] { display: none !important; }` so we also need the `!important` here to be able to override the default hidden behavior on the sphinx rendered scikit-learn.org. See: https://github.com/scikit-learn/scikit-learn/issues/21755 */display: inline-block !important;position: relative;}#sk-container-id-2 div.sk-text-repr-fallback {display: none;}</style><div id=\"sk-container-id-2\" class=\"sk-top-container\"><div class=\"sk-text-repr-fallback\"><pre>LinearRegression()</pre><b>In a Jupyter environment, please rerun this cell to show the HTML representation or trust the notebook. <br />On GitHub, the HTML representation is unable to render, please try loading this page with nbviewer.org.</b></div><div class=\"sk-container\" hidden><div class=\"sk-item\"><div class=\"sk-estimator sk-toggleable\"><input class=\"sk-toggleable__control sk-hidden--visually\" id=\"sk-estimator-id-2\" type=\"checkbox\" checked><label for=\"sk-estimator-id-2\" class=\"sk-toggleable__label sk-toggleable__label-arrow\">LinearRegression</label><div class=\"sk-toggleable__content\"><pre>LinearRegression()</pre></div></div></div></div></div>"
      ],
      "text/plain": [
       "LinearRegression()"
      ]
     },
     "execution_count": 66,
     "metadata": {},
     "output_type": "execute_result"
    }
   ],
   "source": [
    "# In a Jupyter environment, please rerun this cell to show the HTML representation or trust the notebook. \n",
    "lr1    # model object"
   ]
  },
  {
   "cell_type": "code",
   "execution_count": null,
   "id": "b9ed7bce-041f-4844-8448-470aa2727fc5",
   "metadata": {},
   "outputs": [],
   "source": [
    "    # f. Evaluate again "
   ]
  },
  {
   "cell_type": "code",
   "execution_count": 69,
   "id": "62bcbb72-4094-4b3f-988a-a4fc2bc3d78b",
   "metadata": {
    "tags": []
   },
   "outputs": [
    {
     "data": {
      "text/html": [
       "<style>#sk-container-id-3 {color: black;}#sk-container-id-3 pre{padding: 0;}#sk-container-id-3 div.sk-toggleable {background-color: white;}#sk-container-id-3 label.sk-toggleable__label {cursor: pointer;display: block;width: 100%;margin-bottom: 0;padding: 0.3em;box-sizing: border-box;text-align: center;}#sk-container-id-3 label.sk-toggleable__label-arrow:before {content: \"▸\";float: left;margin-right: 0.25em;color: #696969;}#sk-container-id-3 label.sk-toggleable__label-arrow:hover:before {color: black;}#sk-container-id-3 div.sk-estimator:hover label.sk-toggleable__label-arrow:before {color: black;}#sk-container-id-3 div.sk-toggleable__content {max-height: 0;max-width: 0;overflow: hidden;text-align: left;background-color: #f0f8ff;}#sk-container-id-3 div.sk-toggleable__content pre {margin: 0.2em;color: black;border-radius: 0.25em;background-color: #f0f8ff;}#sk-container-id-3 input.sk-toggleable__control:checked~div.sk-toggleable__content {max-height: 200px;max-width: 100%;overflow: auto;}#sk-container-id-3 input.sk-toggleable__control:checked~label.sk-toggleable__label-arrow:before {content: \"▾\";}#sk-container-id-3 div.sk-estimator input.sk-toggleable__control:checked~label.sk-toggleable__label {background-color: #d4ebff;}#sk-container-id-3 div.sk-label input.sk-toggleable__control:checked~label.sk-toggleable__label {background-color: #d4ebff;}#sk-container-id-3 input.sk-hidden--visually {border: 0;clip: rect(1px 1px 1px 1px);clip: rect(1px, 1px, 1px, 1px);height: 1px;margin: -1px;overflow: hidden;padding: 0;position: absolute;width: 1px;}#sk-container-id-3 div.sk-estimator {font-family: monospace;background-color: #f0f8ff;border: 1px dotted black;border-radius: 0.25em;box-sizing: border-box;margin-bottom: 0.5em;}#sk-container-id-3 div.sk-estimator:hover {background-color: #d4ebff;}#sk-container-id-3 div.sk-parallel-item::after {content: \"\";width: 100%;border-bottom: 1px solid gray;flex-grow: 1;}#sk-container-id-3 div.sk-label:hover label.sk-toggleable__label {background-color: #d4ebff;}#sk-container-id-3 div.sk-serial::before {content: \"\";position: absolute;border-left: 1px solid gray;box-sizing: border-box;top: 0;bottom: 0;left: 50%;z-index: 0;}#sk-container-id-3 div.sk-serial {display: flex;flex-direction: column;align-items: center;background-color: white;padding-right: 0.2em;padding-left: 0.2em;position: relative;}#sk-container-id-3 div.sk-item {position: relative;z-index: 1;}#sk-container-id-3 div.sk-parallel {display: flex;align-items: stretch;justify-content: center;background-color: white;position: relative;}#sk-container-id-3 div.sk-item::before, #sk-container-id-3 div.sk-parallel-item::before {content: \"\";position: absolute;border-left: 1px solid gray;box-sizing: border-box;top: 0;bottom: 0;left: 50%;z-index: -1;}#sk-container-id-3 div.sk-parallel-item {display: flex;flex-direction: column;z-index: 1;position: relative;background-color: white;}#sk-container-id-3 div.sk-parallel-item:first-child::after {align-self: flex-end;width: 50%;}#sk-container-id-3 div.sk-parallel-item:last-child::after {align-self: flex-start;width: 50%;}#sk-container-id-3 div.sk-parallel-item:only-child::after {width: 0;}#sk-container-id-3 div.sk-dashed-wrapped {border: 1px dashed gray;margin: 0 0.4em 0.5em 0.4em;box-sizing: border-box;padding-bottom: 0.4em;background-color: white;}#sk-container-id-3 div.sk-label label {font-family: monospace;font-weight: bold;display: inline-block;line-height: 1.2em;}#sk-container-id-3 div.sk-label-container {text-align: center;}#sk-container-id-3 div.sk-container {/* jupyter's `normalize.less` sets `[hidden] { display: none; }` but bootstrap.min.css set `[hidden] { display: none !important; }` so we also need the `!important` here to be able to override the default hidden behavior on the sphinx rendered scikit-learn.org. See: https://github.com/scikit-learn/scikit-learn/issues/21755 */display: inline-block !important;position: relative;}#sk-container-id-3 div.sk-text-repr-fallback {display: none;}</style><div id=\"sk-container-id-3\" class=\"sk-top-container\"><div class=\"sk-text-repr-fallback\"><pre>LinearRegression()</pre><b>In a Jupyter environment, please rerun this cell to show the HTML representation or trust the notebook. <br />On GitHub, the HTML representation is unable to render, please try loading this page with nbviewer.org.</b></div><div class=\"sk-container\" hidden><div class=\"sk-item\"><div class=\"sk-estimator sk-toggleable\"><input class=\"sk-toggleable__control sk-hidden--visually\" id=\"sk-estimator-id-3\" type=\"checkbox\" checked><label for=\"sk-estimator-id-3\" class=\"sk-toggleable__label sk-toggleable__label-arrow\">LinearRegression</label><div class=\"sk-toggleable__content\"><pre>LinearRegression()</pre></div></div></div></div></div>"
      ],
      "text/plain": [
       "LinearRegression()"
      ]
     },
     "execution_count": 69,
     "metadata": {},
     "output_type": "execute_result"
    }
   ],
   "source": [
    "# lr1 as an object was created for our RFE process,\n",
    "# lets just use that same object for our first model\n",
    "lr1.fit(X_train_rfe, y)"
   ]
  },
  {
   "cell_type": "code",
   "execution_count": 70,
   "id": "575d6d4e-4add-4c39-8262-82c41f97f3d7",
   "metadata": {
    "tags": []
   },
   "outputs": [
    {
     "data": {
      "text/plain": [
       "array([[3.],\n",
       "       [2.],\n",
       "       [4.],\n",
       "       [2.],\n",
       "       [2.],\n",
       "       [2.],\n",
       "       [3.],\n",
       "       [2.],\n",
       "       [2.],\n",
       "       [2.]])"
      ]
     },
     "execution_count": 70,
     "metadata": {},
     "output_type": "execute_result"
    }
   ],
   "source": [
    "X_val_rfe[:10]"
   ]
  },
  {
   "cell_type": "code",
   "execution_count": 71,
   "id": "8a559dbd-d085-49c2-8874-0a9c18f27c79",
   "metadata": {
    "tags": []
   },
   "outputs": [],
   "source": [
    "y_pred_val = lr1.predict(X_val_rfe)     # obtaining predictions  y_pred_val = prediction output"
   ]
  },
  {
   "cell_type": "code",
   "execution_count": 74,
   "id": "0520068d-9881-429d-862a-b05cdc74dc22",
   "metadata": {
    "tags": []
   },
   "outputs": [
    {
     "data": {
      "text/plain": [
       "(1.202230741945366, 0.3137323289939724)"
      ]
     },
     "execution_count": 74,
     "metadata": {},
     "output_type": "execute_result"
    }
   ],
   "source": [
    "# we filled in our first row of data\n",
    "# for our evaluation df with training tips\n",
    "# lets ensure we compare apples to apples\n",
    "# and continue to use training tips (at least this df*)\n",
    "# * we still will want to retain these validation scores\n",
    "# for comparison against our \"best\" models to check for overfitting\n",
    "\n",
    "evaluate_reg(y, lr1.predict(X_train_rfe))"
   ]
  },
  {
   "cell_type": "code",
   "execution_count": 76,
   "id": "f407863a-8779-4be4-aaf6-7b9bb5a33a5c",
   "metadata": {
    "tags": []
   },
   "outputs": [
    {
     "data": {
      "text/plain": [
       "Index(['model', 'rmse', 'r2'], dtype='object')"
      ]
     },
     "execution_count": 76,
     "metadata": {},
     "output_type": "execute_result"
    }
   ],
   "source": [
    "eval_df.columns"
   ]
  },
  {
   "cell_type": "code",
   "execution_count": 81,
   "id": "630df346-1cdd-492c-87a0-90caa70fc36d",
   "metadata": {
    "tags": []
   },
   "outputs": [],
   "source": [
    "rmse, r_2 = evaluate_reg(y, lr1.predict(X_train_rfe))     # Adding evaluation findings to my dataframe\n",
    "eval_df = pd.concat([eval_df, pd.DataFrame(\n",
    "[\n",
    "    {\n",
    "        'model': 'ols_rfe_1',\n",
    "        'rmse': rmse,\n",
    "        'r2': r_2\n",
    "    }\n",
    "])], ignore_index=True, axis=0)"
   ]
  },
  {
   "cell_type": "code",
   "execution_count": 78,
   "id": "bb8d4b02-1a6c-4f6b-8caf-3141458e2920",
   "metadata": {
    "tags": []
   },
   "outputs": [
    {
     "data": {
      "text/html": [
       "<div>\n",
       "<style scoped>\n",
       "    .dataframe tbody tr th:only-of-type {\n",
       "        vertical-align: middle;\n",
       "    }\n",
       "\n",
       "    .dataframe tbody tr th {\n",
       "        vertical-align: top;\n",
       "    }\n",
       "\n",
       "    .dataframe thead th {\n",
       "        text-align: right;\n",
       "    }\n",
       "</style>\n",
       "<table border=\"1\" class=\"dataframe\">\n",
       "  <thead>\n",
       "    <tr style=\"text-align: right;\">\n",
       "      <th></th>\n",
       "      <th>model</th>\n",
       "      <th>rmse</th>\n",
       "      <th>r2</th>\n",
       "    </tr>\n",
       "  </thead>\n",
       "  <tbody>\n",
       "    <tr>\n",
       "      <th>0</th>\n",
       "      <td>baseline</td>\n",
       "      <td>1.451246</td>\n",
       "      <td>0.000000</td>\n",
       "    </tr>\n",
       "    <tr>\n",
       "      <th>1</th>\n",
       "      <td>ols_rfe_1</td>\n",
       "      <td>1.202231</td>\n",
       "      <td>0.313732</td>\n",
       "    </tr>\n",
       "  </tbody>\n",
       "</table>\n",
       "</div>"
      ],
      "text/plain": [
       "       model      rmse        r2\n",
       "0   baseline  1.451246  0.000000\n",
       "1  ols_rfe_1  1.202231  0.313732"
      ]
     },
     "execution_count": 78,
     "metadata": {},
     "output_type": "execute_result"
    }
   ],
   "source": [
    "eval_df"
   ]
  },
  {
   "cell_type": "code",
   "execution_count": null,
   "id": "56d6fe2a-122b-4966-9062-eca82e235ced",
   "metadata": {},
   "outputs": [],
   "source": [
    "# It seems like ols_rfe_1 is a better model than baseline because the rmse has declined and now closer to 1."
   ]
  },
  {
   "cell_type": "code",
   "execution_count": null,
   "id": "0467a76b-1c49-4b6b-9a5b-4a31a345c0b5",
   "metadata": {},
   "outputs": [],
   "source": [
    "    # g. Examine the model"
   ]
  },
  {
   "cell_type": "code",
   "execution_count": 82,
   "id": "4e73db98-a3dd-4107-ad81-1c1f4157372f",
   "metadata": {
    "tags": []
   },
   "outputs": [
    {
     "name": "stdout",
     "output_type": "stream",
     "text": [
      "For every 1 person increase in party size, we predict a 0.83 point increase in tip amount\n"
     ]
    }
   ],
   "source": [
    "lr1.coef_     # Does lr1 refer to the feature chosen via RSE ('size')?\n",
    "lr1.intercept_\n",
    "print(f'For every 1 person increase in party size, we predict a {lr1.coef_[0]:.2f} point increase in tip amount')\n",
    "\n",
    "# IS THIS RIGHT? lr1 is using size to predict the tip."
   ]
  },
  {
   "cell_type": "code",
   "execution_count": 83,
   "id": "394f6a22-877f-44c4-9dbd-2af31cdae6f0",
   "metadata": {
    "tags": []
   },
   "outputs": [],
   "source": [
    "val_rmse, val_r2 = evaluate_reg(y_val, lr1.predict(X_val_rfe))\n",
    "val_dict = {\n",
    "    'model': 'ols_rfe_1',\n",
    "    'val_rmse': val_rmse,\n",
    "    'val_r2': val_r2\n",
    "}"
   ]
  },
  {
   "cell_type": "code",
   "execution_count": 84,
   "id": "82e78bf2-ca42-4297-9216-525c74b6b6c8",
   "metadata": {
    "tags": []
   },
   "outputs": [],
   "source": [
    "val_scores = [val_dict]"
   ]
  },
  {
   "cell_type": "code",
   "execution_count": null,
   "id": "96b00df6-ed8b-43ef-99ec-6e74cf588233",
   "metadata": {},
   "outputs": [],
   "source": [
    "    # h. Next, we build a multiple regression model using OLS"
   ]
  },
  {
   "cell_type": "code",
   "execution_count": 87,
   "id": "4fbc079c-c056-4e04-bf2c-a95c78cf1491",
   "metadata": {
    "tags": []
   },
   "outputs": [
    {
     "data": {
      "text/html": [
       "<style>#sk-container-id-5 {color: black;}#sk-container-id-5 pre{padding: 0;}#sk-container-id-5 div.sk-toggleable {background-color: white;}#sk-container-id-5 label.sk-toggleable__label {cursor: pointer;display: block;width: 100%;margin-bottom: 0;padding: 0.3em;box-sizing: border-box;text-align: center;}#sk-container-id-5 label.sk-toggleable__label-arrow:before {content: \"▸\";float: left;margin-right: 0.25em;color: #696969;}#sk-container-id-5 label.sk-toggleable__label-arrow:hover:before {color: black;}#sk-container-id-5 div.sk-estimator:hover label.sk-toggleable__label-arrow:before {color: black;}#sk-container-id-5 div.sk-toggleable__content {max-height: 0;max-width: 0;overflow: hidden;text-align: left;background-color: #f0f8ff;}#sk-container-id-5 div.sk-toggleable__content pre {margin: 0.2em;color: black;border-radius: 0.25em;background-color: #f0f8ff;}#sk-container-id-5 input.sk-toggleable__control:checked~div.sk-toggleable__content {max-height: 200px;max-width: 100%;overflow: auto;}#sk-container-id-5 input.sk-toggleable__control:checked~label.sk-toggleable__label-arrow:before {content: \"▾\";}#sk-container-id-5 div.sk-estimator input.sk-toggleable__control:checked~label.sk-toggleable__label {background-color: #d4ebff;}#sk-container-id-5 div.sk-label input.sk-toggleable__control:checked~label.sk-toggleable__label {background-color: #d4ebff;}#sk-container-id-5 input.sk-hidden--visually {border: 0;clip: rect(1px 1px 1px 1px);clip: rect(1px, 1px, 1px, 1px);height: 1px;margin: -1px;overflow: hidden;padding: 0;position: absolute;width: 1px;}#sk-container-id-5 div.sk-estimator {font-family: monospace;background-color: #f0f8ff;border: 1px dotted black;border-radius: 0.25em;box-sizing: border-box;margin-bottom: 0.5em;}#sk-container-id-5 div.sk-estimator:hover {background-color: #d4ebff;}#sk-container-id-5 div.sk-parallel-item::after {content: \"\";width: 100%;border-bottom: 1px solid gray;flex-grow: 1;}#sk-container-id-5 div.sk-label:hover label.sk-toggleable__label {background-color: #d4ebff;}#sk-container-id-5 div.sk-serial::before {content: \"\";position: absolute;border-left: 1px solid gray;box-sizing: border-box;top: 0;bottom: 0;left: 50%;z-index: 0;}#sk-container-id-5 div.sk-serial {display: flex;flex-direction: column;align-items: center;background-color: white;padding-right: 0.2em;padding-left: 0.2em;position: relative;}#sk-container-id-5 div.sk-item {position: relative;z-index: 1;}#sk-container-id-5 div.sk-parallel {display: flex;align-items: stretch;justify-content: center;background-color: white;position: relative;}#sk-container-id-5 div.sk-item::before, #sk-container-id-5 div.sk-parallel-item::before {content: \"\";position: absolute;border-left: 1px solid gray;box-sizing: border-box;top: 0;bottom: 0;left: 50%;z-index: -1;}#sk-container-id-5 div.sk-parallel-item {display: flex;flex-direction: column;z-index: 1;position: relative;background-color: white;}#sk-container-id-5 div.sk-parallel-item:first-child::after {align-self: flex-end;width: 50%;}#sk-container-id-5 div.sk-parallel-item:last-child::after {align-self: flex-start;width: 50%;}#sk-container-id-5 div.sk-parallel-item:only-child::after {width: 0;}#sk-container-id-5 div.sk-dashed-wrapped {border: 1px dashed gray;margin: 0 0.4em 0.5em 0.4em;box-sizing: border-box;padding-bottom: 0.4em;background-color: white;}#sk-container-id-5 div.sk-label label {font-family: monospace;font-weight: bold;display: inline-block;line-height: 1.2em;}#sk-container-id-5 div.sk-label-container {text-align: center;}#sk-container-id-5 div.sk-container {/* jupyter's `normalize.less` sets `[hidden] { display: none; }` but bootstrap.min.css set `[hidden] { display: none !important; }` so we also need the `!important` here to be able to override the default hidden behavior on the sphinx rendered scikit-learn.org. See: https://github.com/scikit-learn/scikit-learn/issues/21755 */display: inline-block !important;position: relative;}#sk-container-id-5 div.sk-text-repr-fallback {display: none;}</style><div id=\"sk-container-id-5\" class=\"sk-top-container\"><div class=\"sk-text-repr-fallback\"><pre>LinearRegression()</pre><b>In a Jupyter environment, please rerun this cell to show the HTML representation or trust the notebook. <br />On GitHub, the HTML representation is unable to render, please try loading this page with nbviewer.org.</b></div><div class=\"sk-container\" hidden><div class=\"sk-item\"><div class=\"sk-estimator sk-toggleable\"><input class=\"sk-toggleable__control sk-hidden--visually\" id=\"sk-estimator-id-5\" type=\"checkbox\" checked><label for=\"sk-estimator-id-5\" class=\"sk-toggleable__label sk-toggleable__label-arrow\">LinearRegression</label><div class=\"sk-toggleable__content\"><pre>LinearRegression()</pre></div></div></div></div></div>"
      ],
      "text/plain": [
       "LinearRegression()"
      ]
     },
     "execution_count": 87,
     "metadata": {},
     "output_type": "execute_result"
    }
   ],
   "source": [
    "# create it\n",
    "lr2 = LinearRegression()\n",
    "\n",
    "# fit it:\n",
    "lr2.fit(X, y)"
   ]
  },
  {
   "cell_type": "code",
   "execution_count": 89,
   "id": "94dc5d04-17c5-469c-9650-569c1ac7b029",
   "metadata": {
    "tags": []
   },
   "outputs": [],
   "source": [
    "# use it\n",
    "\n",
    "rmse, r_2 = evaluate_reg(y, lr2.predict(X))\n",
    "eval_df = pd.concat([eval_df, pd.DataFrame(\n",
    "[\n",
    "    {\n",
    "        'model': 'ols_all_feats',\n",
    "        'rmse': rmse,\n",
    "        'r2': r_2\n",
    "    }\n",
    "])], ignore_index=True, axis=0)"
   ]
  },
  {
   "cell_type": "code",
   "execution_count": 90,
   "id": "0e929dce-3ec4-4abc-8839-57cb451ec792",
   "metadata": {
    "tags": []
   },
   "outputs": [
    {
     "data": {
      "text/html": [
       "<div>\n",
       "<style scoped>\n",
       "    .dataframe tbody tr th:only-of-type {\n",
       "        vertical-align: middle;\n",
       "    }\n",
       "\n",
       "    .dataframe tbody tr th {\n",
       "        vertical-align: top;\n",
       "    }\n",
       "\n",
       "    .dataframe thead th {\n",
       "        text-align: right;\n",
       "    }\n",
       "</style>\n",
       "<table border=\"1\" class=\"dataframe\">\n",
       "  <thead>\n",
       "    <tr style=\"text-align: right;\">\n",
       "      <th></th>\n",
       "      <th>model</th>\n",
       "      <th>rmse</th>\n",
       "      <th>r2</th>\n",
       "    </tr>\n",
       "  </thead>\n",
       "  <tbody>\n",
       "    <tr>\n",
       "      <th>0</th>\n",
       "      <td>baseline</td>\n",
       "      <td>1.451246</td>\n",
       "      <td>0.000000</td>\n",
       "    </tr>\n",
       "    <tr>\n",
       "      <th>1</th>\n",
       "      <td>ols_rfe_1</td>\n",
       "      <td>1.202231</td>\n",
       "      <td>0.313732</td>\n",
       "    </tr>\n",
       "    <tr>\n",
       "      <th>2</th>\n",
       "      <td>ols_rfe_1</td>\n",
       "      <td>1.202231</td>\n",
       "      <td>0.313732</td>\n",
       "    </tr>\n",
       "    <tr>\n",
       "      <th>3</th>\n",
       "      <td>ols_all_feats</td>\n",
       "      <td>1.036071</td>\n",
       "      <td>0.490321</td>\n",
       "    </tr>\n",
       "    <tr>\n",
       "      <th>4</th>\n",
       "      <td>ols_all_feats</td>\n",
       "      <td>1.036071</td>\n",
       "      <td>0.490321</td>\n",
       "    </tr>\n",
       "  </tbody>\n",
       "</table>\n",
       "</div>"
      ],
      "text/plain": [
       "           model      rmse        r2\n",
       "0       baseline  1.451246  0.000000\n",
       "1      ols_rfe_1  1.202231  0.313732\n",
       "2      ols_rfe_1  1.202231  0.313732\n",
       "3  ols_all_feats  1.036071  0.490321\n",
       "4  ols_all_feats  1.036071  0.490321"
      ]
     },
     "execution_count": 90,
     "metadata": {},
     "output_type": "execute_result"
    }
   ],
   "source": [
    "eval_df"
   ]
  },
  {
   "cell_type": "code",
   "execution_count": 91,
   "id": "75e30366-9e14-484c-9147-0b568e2fbd64",
   "metadata": {
    "tags": []
   },
   "outputs": [],
   "source": [
    "# It seems like ols_all_feats is a better model than baseline and ols_rfe_1 because the rmse has declined again and now closer to 1."
   ]
  },
  {
   "cell_type": "code",
   "execution_count": null,
   "id": "4d96aa7d-9ee5-4c73-a3af-ac47b55f7d12",
   "metadata": {},
   "outputs": [],
   "source": []
  },
  {
   "cell_type": "code",
   "execution_count": null,
   "id": "10e91a16-9af5-46b4-ab9b-2e98590133a0",
   "metadata": {},
   "outputs": [],
   "source": [
    "# Scaling is not needed with this specific data set??"
   ]
  },
  {
   "cell_type": "code",
   "execution_count": null,
   "id": "7dc1abfe-b74b-47c8-9e5b-bcd635877198",
   "metadata": {},
   "outputs": [],
   "source": []
  },
  {
   "cell_type": "code",
   "execution_count": 93,
   "id": "a582f076-3b6a-4553-aa13-df70b0231584",
   "metadata": {
    "tags": []
   },
   "outputs": [],
   "source": [
    "# LassoLars performs intrinsic feature selection and noise reduction to avoid overfitting\n",
    "    # alpha = 1\n",
    "\n",
    "from sklearn.linear_model import LassoLars "
   ]
  },
  {
   "cell_type": "code",
   "execution_count": 94,
   "id": "30cedb76-6ca2-451a-9789-dc542c0325ae",
   "metadata": {
    "tags": []
   },
   "outputs": [],
   "source": [
    "# fit a version of this that has an alpha of 1:\n",
    "# make it\n",
    "lasso = LassoLars(alpha=1)\n",
    "# fit it:\n",
    "lasso = lasso.fit(X, y)"
   ]
  },
  {
   "cell_type": "code",
   "execution_count": 95,
   "id": "fd35e80e-c5c1-4bcf-af7a-6103184eba82",
   "metadata": {
    "tags": []
   },
   "outputs": [
    {
     "data": {
      "text/plain": [
       "array([0.09993821, 0.        ])"
      ]
     },
     "execution_count": 95,
     "metadata": {},
     "output_type": "execute_result"
    }
   ],
   "source": [
    "lasso.coef_"
   ]
  },
  {
   "cell_type": "code",
   "execution_count": 96,
   "id": "0b5b63a4-db10-42c5-acf0-ae37f86bc222",
   "metadata": {
    "tags": []
   },
   "outputs": [
    {
     "data": {
      "text/plain": [
       "array([0.09063446, 0.31119029])"
      ]
     },
     "execution_count": 96,
     "metadata": {},
     "output_type": "execute_result"
    }
   ],
   "source": [
    "lr2.coef_"
   ]
  },
  {
   "cell_type": "code",
   "execution_count": null,
   "id": "5e90cb8e-0605-462e-b537-6bdda51b76fe",
   "metadata": {},
   "outputs": [],
   "source": [
    "   i. # Evaluate again "
   ]
  },
  {
   "cell_type": "code",
   "execution_count": 97,
   "id": "bc72c92d-3948-411f-86b0-304e689dc4f3",
   "metadata": {
    "tags": []
   },
   "outputs": [],
   "source": [
    "rmse, r_2 = evaluate_reg(y, lasso.predict(X))\n",
    "eval_df = pd.concat([eval_df, pd.DataFrame(\n",
    "[\n",
    "    {\n",
    "        'model': 'lasso',\n",
    "        'rmse': rmse,\n",
    "        'r2': r_2\n",
    "    }\n",
    "])], ignore_index=True, axis=0)"
   ]
  },
  {
   "cell_type": "code",
   "execution_count": 98,
   "id": "2ac619f5-368a-4bd8-9d5f-fefa591569e2",
   "metadata": {
    "tags": []
   },
   "outputs": [],
   "source": [
    "val_rmse, val_r2 = evaluate_reg(y_val, lasso.predict(X_val))\n",
    "val_dict = {\n",
    "    'model': 'lasso',\n",
    "    'val_rmse': val_rmse,\n",
    "    'val_r2': val_r2\n",
    "}"
   ]
  },
  {
   "cell_type": "code",
   "execution_count": 99,
   "id": "a2617e71-f6a2-4c7f-907f-42e7bc2f313b",
   "metadata": {
    "tags": []
   },
   "outputs": [],
   "source": [
    "val_scores.append(val_dict)"
   ]
  },
  {
   "cell_type": "code",
   "execution_count": 100,
   "id": "e4d90990-a3c6-4eec-a4b1-527216f82bc1",
   "metadata": {
    "tags": []
   },
   "outputs": [
    {
     "data": {
      "text/html": [
       "<div>\n",
       "<style scoped>\n",
       "    .dataframe tbody tr th:only-of-type {\n",
       "        vertical-align: middle;\n",
       "    }\n",
       "\n",
       "    .dataframe tbody tr th {\n",
       "        vertical-align: top;\n",
       "    }\n",
       "\n",
       "    .dataframe thead th {\n",
       "        text-align: right;\n",
       "    }\n",
       "</style>\n",
       "<table border=\"1\" class=\"dataframe\">\n",
       "  <thead>\n",
       "    <tr style=\"text-align: right;\">\n",
       "      <th></th>\n",
       "      <th>model</th>\n",
       "      <th>rmse</th>\n",
       "      <th>r2</th>\n",
       "    </tr>\n",
       "  </thead>\n",
       "  <tbody>\n",
       "    <tr>\n",
       "      <th>0</th>\n",
       "      <td>baseline</td>\n",
       "      <td>1.451246</td>\n",
       "      <td>0.000000</td>\n",
       "    </tr>\n",
       "    <tr>\n",
       "      <th>1</th>\n",
       "      <td>ols_rfe_1</td>\n",
       "      <td>1.202231</td>\n",
       "      <td>0.313732</td>\n",
       "    </tr>\n",
       "    <tr>\n",
       "      <th>2</th>\n",
       "      <td>ols_rfe_1</td>\n",
       "      <td>1.202231</td>\n",
       "      <td>0.313732</td>\n",
       "    </tr>\n",
       "    <tr>\n",
       "      <th>3</th>\n",
       "      <td>ols_all_feats</td>\n",
       "      <td>1.036071</td>\n",
       "      <td>0.490321</td>\n",
       "    </tr>\n",
       "    <tr>\n",
       "      <th>4</th>\n",
       "      <td>ols_all_feats</td>\n",
       "      <td>1.036071</td>\n",
       "      <td>0.490321</td>\n",
       "    </tr>\n",
       "    <tr>\n",
       "      <th>5</th>\n",
       "      <td>lasso</td>\n",
       "      <td>1.068651</td>\n",
       "      <td>0.457762</td>\n",
       "    </tr>\n",
       "  </tbody>\n",
       "</table>\n",
       "</div>"
      ],
      "text/plain": [
       "           model      rmse        r2\n",
       "0       baseline  1.451246  0.000000\n",
       "1      ols_rfe_1  1.202231  0.313732\n",
       "2      ols_rfe_1  1.202231  0.313732\n",
       "3  ols_all_feats  1.036071  0.490321\n",
       "4  ols_all_feats  1.036071  0.490321\n",
       "5          lasso  1.068651  0.457762"
      ]
     },
     "execution_count": 100,
     "metadata": {},
     "output_type": "execute_result"
    }
   ],
   "source": [
    "eval_df"
   ]
  },
  {
   "cell_type": "code",
   "execution_count": null,
   "id": "3d1db105-a9c4-4ea5-834c-6eacdde283f9",
   "metadata": {},
   "outputs": [],
   "source": [
    "# It seems like lasso is NOT a better model than ols_all_feat because the rmse has increased to 1.07 from 1.04."
   ]
  },
  {
   "cell_type": "code",
   "execution_count": 101,
   "id": "3f5d84b9-54d6-4c2d-a06a-2204186bdf82",
   "metadata": {
    "tags": []
   },
   "outputs": [],
   "source": [
    "    # j. Next, we build a multiple regression model.\n",
    "\n",
    "from sklearn.preprocessing import PolynomialFeatures"
   ]
  },
  {
   "cell_type": "code",
   "execution_count": 102,
   "id": "19543ac8-838d-4c53-8702-6ab570274044",
   "metadata": {
    "tags": []
   },
   "outputs": [],
   "source": [
    "# do a preprocessing step with our training data\n",
    "# to transform our x into combinations of x and x^2, x^3, etc"
   ]
  },
  {
   "cell_type": "code",
   "execution_count": 103,
   "id": "6346c9b1-167c-44b5-a915-555a42f9f445",
   "metadata": {
    "tags": []
   },
   "outputs": [],
   "source": [
    "pf = PolynomialFeatures(degree=2)\n",
    "# fit the thing, also use it\n",
    "x_train_sq = pf.fit_transform(X)\n",
    "# use this transformer to change our val and test:\n",
    "x_val_sq = pf.transform(X_val)\n",
    "x_test_sq = pf.transform(X_test)"
   ]
  },
  {
   "cell_type": "code",
   "execution_count": null,
   "id": "0906943b-cc07-4020-b8d8-831fcbb9b259",
   "metadata": {},
   "outputs": [],
   "source": [
    "# fit on a linear regression model"
   ]
  },
  {
   "cell_type": "code",
   "execution_count": 104,
   "id": "047a8745-5d88-4d9b-b1c1-9f77dd99c9b9",
   "metadata": {
    "tags": []
   },
   "outputs": [
    {
     "data": {
      "text/plain": [
       "array([[1.0000000e+00, 1.6970000e+01, 3.0000000e+00, 2.8798090e+02,\n",
       "        5.0910000e+01, 9.0000000e+00],\n",
       "       [1.0000000e+00, 7.2500000e+00, 2.0000000e+00, 5.2562500e+01,\n",
       "        1.4500000e+01, 4.0000000e+00],\n",
       "       [1.0000000e+00, 1.2430000e+01, 2.0000000e+00, 1.5450490e+02,\n",
       "        2.4860000e+01, 4.0000000e+00],\n",
       "       [1.0000000e+00, 2.1700000e+01, 2.0000000e+00, 4.7089000e+02,\n",
       "        4.3400000e+01, 4.0000000e+00],\n",
       "       [1.0000000e+00, 3.2830000e+01, 2.0000000e+00, 1.0778089e+03,\n",
       "        6.5660000e+01, 4.0000000e+00],\n",
       "       [1.0000000e+00, 3.8730000e+01, 4.0000000e+00, 1.5000129e+03,\n",
       "        1.5492000e+02, 1.6000000e+01],\n",
       "       [1.0000000e+00, 2.3170000e+01, 4.0000000e+00, 5.3684890e+02,\n",
       "        9.2680000e+01, 1.6000000e+01],\n",
       "       [1.0000000e+00, 2.0290000e+01, 2.0000000e+00, 4.1168410e+02,\n",
       "        4.0580000e+01, 4.0000000e+00],\n",
       "       [1.0000000e+00, 1.7460000e+01, 2.0000000e+00, 3.0485160e+02,\n",
       "        3.4920000e+01, 4.0000000e+00],\n",
       "       [1.0000000e+00, 2.1500000e+01, 4.0000000e+00, 4.6225000e+02,\n",
       "        8.6000000e+01, 1.6000000e+01]])"
      ]
     },
     "execution_count": 104,
     "metadata": {},
     "output_type": "execute_result"
    }
   ],
   "source": [
    "x_train_sq[:10]"
   ]
  },
  {
   "cell_type": "code",
   "execution_count": 105,
   "id": "d2b6489c-bb0f-4fc6-9c01-46fe3a2afca0",
   "metadata": {
    "tags": []
   },
   "outputs": [
    {
     "data": {
      "text/html": [
       "<style>#sk-container-id-6 {color: black;}#sk-container-id-6 pre{padding: 0;}#sk-container-id-6 div.sk-toggleable {background-color: white;}#sk-container-id-6 label.sk-toggleable__label {cursor: pointer;display: block;width: 100%;margin-bottom: 0;padding: 0.3em;box-sizing: border-box;text-align: center;}#sk-container-id-6 label.sk-toggleable__label-arrow:before {content: \"▸\";float: left;margin-right: 0.25em;color: #696969;}#sk-container-id-6 label.sk-toggleable__label-arrow:hover:before {color: black;}#sk-container-id-6 div.sk-estimator:hover label.sk-toggleable__label-arrow:before {color: black;}#sk-container-id-6 div.sk-toggleable__content {max-height: 0;max-width: 0;overflow: hidden;text-align: left;background-color: #f0f8ff;}#sk-container-id-6 div.sk-toggleable__content pre {margin: 0.2em;color: black;border-radius: 0.25em;background-color: #f0f8ff;}#sk-container-id-6 input.sk-toggleable__control:checked~div.sk-toggleable__content {max-height: 200px;max-width: 100%;overflow: auto;}#sk-container-id-6 input.sk-toggleable__control:checked~label.sk-toggleable__label-arrow:before {content: \"▾\";}#sk-container-id-6 div.sk-estimator input.sk-toggleable__control:checked~label.sk-toggleable__label {background-color: #d4ebff;}#sk-container-id-6 div.sk-label input.sk-toggleable__control:checked~label.sk-toggleable__label {background-color: #d4ebff;}#sk-container-id-6 input.sk-hidden--visually {border: 0;clip: rect(1px 1px 1px 1px);clip: rect(1px, 1px, 1px, 1px);height: 1px;margin: -1px;overflow: hidden;padding: 0;position: absolute;width: 1px;}#sk-container-id-6 div.sk-estimator {font-family: monospace;background-color: #f0f8ff;border: 1px dotted black;border-radius: 0.25em;box-sizing: border-box;margin-bottom: 0.5em;}#sk-container-id-6 div.sk-estimator:hover {background-color: #d4ebff;}#sk-container-id-6 div.sk-parallel-item::after {content: \"\";width: 100%;border-bottom: 1px solid gray;flex-grow: 1;}#sk-container-id-6 div.sk-label:hover label.sk-toggleable__label {background-color: #d4ebff;}#sk-container-id-6 div.sk-serial::before {content: \"\";position: absolute;border-left: 1px solid gray;box-sizing: border-box;top: 0;bottom: 0;left: 50%;z-index: 0;}#sk-container-id-6 div.sk-serial {display: flex;flex-direction: column;align-items: center;background-color: white;padding-right: 0.2em;padding-left: 0.2em;position: relative;}#sk-container-id-6 div.sk-item {position: relative;z-index: 1;}#sk-container-id-6 div.sk-parallel {display: flex;align-items: stretch;justify-content: center;background-color: white;position: relative;}#sk-container-id-6 div.sk-item::before, #sk-container-id-6 div.sk-parallel-item::before {content: \"\";position: absolute;border-left: 1px solid gray;box-sizing: border-box;top: 0;bottom: 0;left: 50%;z-index: -1;}#sk-container-id-6 div.sk-parallel-item {display: flex;flex-direction: column;z-index: 1;position: relative;background-color: white;}#sk-container-id-6 div.sk-parallel-item:first-child::after {align-self: flex-end;width: 50%;}#sk-container-id-6 div.sk-parallel-item:last-child::after {align-self: flex-start;width: 50%;}#sk-container-id-6 div.sk-parallel-item:only-child::after {width: 0;}#sk-container-id-6 div.sk-dashed-wrapped {border: 1px dashed gray;margin: 0 0.4em 0.5em 0.4em;box-sizing: border-box;padding-bottom: 0.4em;background-color: white;}#sk-container-id-6 div.sk-label label {font-family: monospace;font-weight: bold;display: inline-block;line-height: 1.2em;}#sk-container-id-6 div.sk-label-container {text-align: center;}#sk-container-id-6 div.sk-container {/* jupyter's `normalize.less` sets `[hidden] { display: none; }` but bootstrap.min.css set `[hidden] { display: none !important; }` so we also need the `!important` here to be able to override the default hidden behavior on the sphinx rendered scikit-learn.org. See: https://github.com/scikit-learn/scikit-learn/issues/21755 */display: inline-block !important;position: relative;}#sk-container-id-6 div.sk-text-repr-fallback {display: none;}</style><div id=\"sk-container-id-6\" class=\"sk-top-container\"><div class=\"sk-text-repr-fallback\"><pre>LinearRegression()</pre><b>In a Jupyter environment, please rerun this cell to show the HTML representation or trust the notebook. <br />On GitHub, the HTML representation is unable to render, please try loading this page with nbviewer.org.</b></div><div class=\"sk-container\" hidden><div class=\"sk-item\"><div class=\"sk-estimator sk-toggleable\"><input class=\"sk-toggleable__control sk-hidden--visually\" id=\"sk-estimator-id-6\" type=\"checkbox\" checked><label for=\"sk-estimator-id-6\" class=\"sk-toggleable__label sk-toggleable__label-arrow\">LinearRegression</label><div class=\"sk-toggleable__content\"><pre>LinearRegression()</pre></div></div></div></div></div>"
      ],
      "text/plain": [
       "LinearRegression()"
      ]
     },
     "execution_count": 105,
     "metadata": {},
     "output_type": "execute_result"
    }
   ],
   "source": [
    "# make a new model for our polynomial regressor:\n",
    "plyreg = LinearRegression()\n",
    "plyreg.fit(x_train_sq, y)"
   ]
  },
  {
   "cell_type": "code",
   "execution_count": null,
   "id": "1714ba99-9881-45ff-9b8d-d04dcbb8fac4",
   "metadata": {},
   "outputs": [],
   "source": [
    "# In a Jupyter environment, please rerun this cell to show the HTML representation or trust the notebook. "
   ]
  },
  {
   "cell_type": "code",
   "execution_count": null,
   "id": "51e4a180-64e1-430a-8922-20510486a72e",
   "metadata": {},
   "outputs": [],
   "source": [
    "    # k. Evaluate again "
   ]
  },
  {
   "cell_type": "code",
   "execution_count": 106,
   "id": "dcaa814f-6957-4291-b38a-f5c0d08bb9cb",
   "metadata": {
    "tags": []
   },
   "outputs": [],
   "source": [
    "rmse, r_2 = evaluate_reg(y, plyreg.predict(x_train_sq))\n",
    "eval_df = pd.concat([eval_df, pd.DataFrame(\n",
    "[\n",
    "    {\n",
    "        'model': 'quad_reg',\n",
    "        'rmse': rmse,\n",
    "        'r2': r_2\n",
    "    }\n",
    "])], ignore_index=True, axis=0)"
   ]
  },
  {
   "cell_type": "code",
   "execution_count": 107,
   "id": "1f977ca3-6154-41c8-9eae-ad2e8160178a",
   "metadata": {
    "tags": []
   },
   "outputs": [],
   "source": [
    "val_rmse, val_r2 = evaluate_reg(y_val, plyreg.predict(x_val_sq))\n",
    "val_dict = {\n",
    "    'model': 'quad_reg',\n",
    "    'val_rmse': val_rmse,\n",
    "    'val_r2': val_r2\n",
    "}"
   ]
  },
  {
   "cell_type": "code",
   "execution_count": 108,
   "id": "5ff1ba11-7f43-48ff-b2aa-ddc508cf9c70",
   "metadata": {
    "tags": []
   },
   "outputs": [],
   "source": [
    "val_scores.append(val_dict)"
   ]
  },
  {
   "cell_type": "code",
   "execution_count": 109,
   "id": "23aadc35-91cc-4f6b-9adf-a9a938bba21b",
   "metadata": {
    "tags": []
   },
   "outputs": [
    {
     "data": {
      "text/html": [
       "<div>\n",
       "<style scoped>\n",
       "    .dataframe tbody tr th:only-of-type {\n",
       "        vertical-align: middle;\n",
       "    }\n",
       "\n",
       "    .dataframe tbody tr th {\n",
       "        vertical-align: top;\n",
       "    }\n",
       "\n",
       "    .dataframe thead th {\n",
       "        text-align: right;\n",
       "    }\n",
       "</style>\n",
       "<table border=\"1\" class=\"dataframe\">\n",
       "  <thead>\n",
       "    <tr style=\"text-align: right;\">\n",
       "      <th></th>\n",
       "      <th>model</th>\n",
       "      <th>rmse</th>\n",
       "      <th>r2</th>\n",
       "    </tr>\n",
       "  </thead>\n",
       "  <tbody>\n",
       "    <tr>\n",
       "      <th>0</th>\n",
       "      <td>baseline</td>\n",
       "      <td>1.451246</td>\n",
       "      <td>0.000000</td>\n",
       "    </tr>\n",
       "    <tr>\n",
       "      <th>1</th>\n",
       "      <td>ols_rfe_1</td>\n",
       "      <td>1.202231</td>\n",
       "      <td>0.313732</td>\n",
       "    </tr>\n",
       "    <tr>\n",
       "      <th>2</th>\n",
       "      <td>ols_rfe_1</td>\n",
       "      <td>1.202231</td>\n",
       "      <td>0.313732</td>\n",
       "    </tr>\n",
       "    <tr>\n",
       "      <th>3</th>\n",
       "      <td>ols_all_feats</td>\n",
       "      <td>1.036071</td>\n",
       "      <td>0.490321</td>\n",
       "    </tr>\n",
       "    <tr>\n",
       "      <th>4</th>\n",
       "      <td>ols_all_feats</td>\n",
       "      <td>1.036071</td>\n",
       "      <td>0.490321</td>\n",
       "    </tr>\n",
       "    <tr>\n",
       "      <th>5</th>\n",
       "      <td>lasso</td>\n",
       "      <td>1.068651</td>\n",
       "      <td>0.457762</td>\n",
       "    </tr>\n",
       "    <tr>\n",
       "      <th>6</th>\n",
       "      <td>quad_reg</td>\n",
       "      <td>1.027969</td>\n",
       "      <td>0.498261</td>\n",
       "    </tr>\n",
       "  </tbody>\n",
       "</table>\n",
       "</div>"
      ],
      "text/plain": [
       "           model      rmse        r2\n",
       "0       baseline  1.451246  0.000000\n",
       "1      ols_rfe_1  1.202231  0.313732\n",
       "2      ols_rfe_1  1.202231  0.313732\n",
       "3  ols_all_feats  1.036071  0.490321\n",
       "4  ols_all_feats  1.036071  0.490321\n",
       "5          lasso  1.068651  0.457762\n",
       "6       quad_reg  1.027969  0.498261"
      ]
     },
     "execution_count": 109,
     "metadata": {},
     "output_type": "execute_result"
    }
   ],
   "source": [
    "eval_df"
   ]
  },
  {
   "cell_type": "code",
   "execution_count": null,
   "id": "26684bc9-1ddb-46dc-8efb-de650ea00caa",
   "metadata": {},
   "outputs": [],
   "source": [
    "# Now, It seems quad_reg is the best model because the rmse is closest to 1."
   ]
  },
  {
   "cell_type": "code",
   "execution_count": 110,
   "id": "6c278b23-97df-4632-854e-40c76c087f07",
   "metadata": {
    "tags": []
   },
   "outputs": [
    {
     "data": {
      "text/plain": [
       "{'model': 'quad_reg',\n",
       " 'val_rmse': 1.1375609632035313,\n",
       " 'val_r2': 0.4227075113849188}"
      ]
     },
     "execution_count": 110,
     "metadata": {},
     "output_type": "execute_result"
    }
   ],
   "source": [
    "val_scores[-1]"
   ]
  },
  {
   "cell_type": "code",
   "execution_count": null,
   "id": "f8e7e79f-f7a4-42ef-aca6-94588caa1f66",
   "metadata": {},
   "outputs": [],
   "source": [
    "    # l. Next, we build a Generalized Linear Model (GLM)."
   ]
  },
  {
   "cell_type": "code",
   "execution_count": 111,
   "id": "063bce40-27a9-41c2-9a25-9aa1dcd433df",
   "metadata": {
    "tags": []
   },
   "outputs": [],
   "source": [
    "from sklearn.linear_model import TweedieRegressor"
   ]
  },
  {
   "cell_type": "code",
   "execution_count": 112,
   "id": "a57c29ee-d199-4cec-bf0f-d12ea77f3924",
   "metadata": {
    "tags": []
   },
   "outputs": [
    {
     "data": {
      "text/html": [
       "<style>#sk-container-id-7 {color: black;}#sk-container-id-7 pre{padding: 0;}#sk-container-id-7 div.sk-toggleable {background-color: white;}#sk-container-id-7 label.sk-toggleable__label {cursor: pointer;display: block;width: 100%;margin-bottom: 0;padding: 0.3em;box-sizing: border-box;text-align: center;}#sk-container-id-7 label.sk-toggleable__label-arrow:before {content: \"▸\";float: left;margin-right: 0.25em;color: #696969;}#sk-container-id-7 label.sk-toggleable__label-arrow:hover:before {color: black;}#sk-container-id-7 div.sk-estimator:hover label.sk-toggleable__label-arrow:before {color: black;}#sk-container-id-7 div.sk-toggleable__content {max-height: 0;max-width: 0;overflow: hidden;text-align: left;background-color: #f0f8ff;}#sk-container-id-7 div.sk-toggleable__content pre {margin: 0.2em;color: black;border-radius: 0.25em;background-color: #f0f8ff;}#sk-container-id-7 input.sk-toggleable__control:checked~div.sk-toggleable__content {max-height: 200px;max-width: 100%;overflow: auto;}#sk-container-id-7 input.sk-toggleable__control:checked~label.sk-toggleable__label-arrow:before {content: \"▾\";}#sk-container-id-7 div.sk-estimator input.sk-toggleable__control:checked~label.sk-toggleable__label {background-color: #d4ebff;}#sk-container-id-7 div.sk-label input.sk-toggleable__control:checked~label.sk-toggleable__label {background-color: #d4ebff;}#sk-container-id-7 input.sk-hidden--visually {border: 0;clip: rect(1px 1px 1px 1px);clip: rect(1px, 1px, 1px, 1px);height: 1px;margin: -1px;overflow: hidden;padding: 0;position: absolute;width: 1px;}#sk-container-id-7 div.sk-estimator {font-family: monospace;background-color: #f0f8ff;border: 1px dotted black;border-radius: 0.25em;box-sizing: border-box;margin-bottom: 0.5em;}#sk-container-id-7 div.sk-estimator:hover {background-color: #d4ebff;}#sk-container-id-7 div.sk-parallel-item::after {content: \"\";width: 100%;border-bottom: 1px solid gray;flex-grow: 1;}#sk-container-id-7 div.sk-label:hover label.sk-toggleable__label {background-color: #d4ebff;}#sk-container-id-7 div.sk-serial::before {content: \"\";position: absolute;border-left: 1px solid gray;box-sizing: border-box;top: 0;bottom: 0;left: 50%;z-index: 0;}#sk-container-id-7 div.sk-serial {display: flex;flex-direction: column;align-items: center;background-color: white;padding-right: 0.2em;padding-left: 0.2em;position: relative;}#sk-container-id-7 div.sk-item {position: relative;z-index: 1;}#sk-container-id-7 div.sk-parallel {display: flex;align-items: stretch;justify-content: center;background-color: white;position: relative;}#sk-container-id-7 div.sk-item::before, #sk-container-id-7 div.sk-parallel-item::before {content: \"\";position: absolute;border-left: 1px solid gray;box-sizing: border-box;top: 0;bottom: 0;left: 50%;z-index: -1;}#sk-container-id-7 div.sk-parallel-item {display: flex;flex-direction: column;z-index: 1;position: relative;background-color: white;}#sk-container-id-7 div.sk-parallel-item:first-child::after {align-self: flex-end;width: 50%;}#sk-container-id-7 div.sk-parallel-item:last-child::after {align-self: flex-start;width: 50%;}#sk-container-id-7 div.sk-parallel-item:only-child::after {width: 0;}#sk-container-id-7 div.sk-dashed-wrapped {border: 1px dashed gray;margin: 0 0.4em 0.5em 0.4em;box-sizing: border-box;padding-bottom: 0.4em;background-color: white;}#sk-container-id-7 div.sk-label label {font-family: monospace;font-weight: bold;display: inline-block;line-height: 1.2em;}#sk-container-id-7 div.sk-label-container {text-align: center;}#sk-container-id-7 div.sk-container {/* jupyter's `normalize.less` sets `[hidden] { display: none; }` but bootstrap.min.css set `[hidden] { display: none !important; }` so we also need the `!important` here to be able to override the default hidden behavior on the sphinx rendered scikit-learn.org. See: https://github.com/scikit-learn/scikit-learn/issues/21755 */display: inline-block !important;position: relative;}#sk-container-id-7 div.sk-text-repr-fallback {display: none;}</style><div id=\"sk-container-id-7\" class=\"sk-top-container\"><div class=\"sk-text-repr-fallback\"><pre>TweedieRegressor(power=2)</pre><b>In a Jupyter environment, please rerun this cell to show the HTML representation or trust the notebook. <br />On GitHub, the HTML representation is unable to render, please try loading this page with nbviewer.org.</b></div><div class=\"sk-container\" hidden><div class=\"sk-item\"><div class=\"sk-estimator sk-toggleable\"><input class=\"sk-toggleable__control sk-hidden--visually\" id=\"sk-estimator-id-7\" type=\"checkbox\" checked><label for=\"sk-estimator-id-7\" class=\"sk-toggleable__label sk-toggleable__label-arrow\">TweedieRegressor</label><div class=\"sk-toggleable__content\"><pre>TweedieRegressor(power=2)</pre></div></div></div></div></div>"
      ],
      "text/plain": [
       "TweedieRegressor(power=2)"
      ]
     },
     "execution_count": 112,
     "metadata": {},
     "output_type": "execute_result"
    }
   ],
   "source": [
    "# same process as before!\n",
    "# make the dang thing!\n",
    "gams = TweedieRegressor(power=2)\n",
    "# fit the dang ol thing\n",
    "gams.fit(X, y)\n",
    "# use it!"
   ]
  },
  {
   "cell_type": "code",
   "execution_count": null,
   "id": "ef5cc6f2-a286-4208-9d1f-3b245d0bf08a",
   "metadata": {},
   "outputs": [],
   "source": [
    "    # m. Evaluate again "
   ]
  },
  {
   "cell_type": "code",
   "execution_count": 114,
   "id": "d86936f5-c5c8-4961-a2ce-d2a14ce543d3",
   "metadata": {
    "tags": []
   },
   "outputs": [],
   "source": [
    "rmse, r_2 = evaluate_reg(y, gams.predict(X))\n",
    "eval_df = pd.concat([eval_df, pd.DataFrame(\n",
    "[\n",
    "    {\n",
    "        'model': 'gamma_ols',\n",
    "        'rmse': rmse,\n",
    "        'r2': r_2\n",
    "    }\n",
    "])], ignore_index=True, axis=0)"
   ]
  },
  {
   "cell_type": "code",
   "execution_count": 115,
   "id": "9c0a313f-f97d-4572-a53f-b57497df0fb0",
   "metadata": {
    "tags": []
   },
   "outputs": [],
   "source": [
    "val_rmse, val_r2 = evaluate_reg(y_val, gams.predict(X_val))\n",
    "val_dict = {\n",
    "    'model': 'gamma_ols',\n",
    "    'val_rmse': val_rmse,\n",
    "    'val_r2': val_r2\n",
    "}"
   ]
  },
  {
   "cell_type": "code",
   "execution_count": 116,
   "id": "dae9adc0-ef75-4bdf-870a-b7f50af983ce",
   "metadata": {
    "tags": []
   },
   "outputs": [],
   "source": [
    "val_scores.append(val_dict)"
   ]
  },
  {
   "cell_type": "code",
   "execution_count": 117,
   "id": "6b954f93-056f-42c7-addf-1ca935ecb71b",
   "metadata": {
    "tags": []
   },
   "outputs": [
    {
     "data": {
      "text/html": [
       "<div>\n",
       "<style scoped>\n",
       "    .dataframe tbody tr th:only-of-type {\n",
       "        vertical-align: middle;\n",
       "    }\n",
       "\n",
       "    .dataframe tbody tr th {\n",
       "        vertical-align: top;\n",
       "    }\n",
       "\n",
       "    .dataframe thead th {\n",
       "        text-align: right;\n",
       "    }\n",
       "</style>\n",
       "<table border=\"1\" class=\"dataframe\">\n",
       "  <thead>\n",
       "    <tr style=\"text-align: right;\">\n",
       "      <th></th>\n",
       "      <th>model</th>\n",
       "      <th>rmse</th>\n",
       "      <th>r2</th>\n",
       "    </tr>\n",
       "  </thead>\n",
       "  <tbody>\n",
       "    <tr>\n",
       "      <th>0</th>\n",
       "      <td>baseline</td>\n",
       "      <td>1.451246</td>\n",
       "      <td>0.000000</td>\n",
       "    </tr>\n",
       "    <tr>\n",
       "      <th>1</th>\n",
       "      <td>ols_rfe_1</td>\n",
       "      <td>1.202231</td>\n",
       "      <td>0.313732</td>\n",
       "    </tr>\n",
       "    <tr>\n",
       "      <th>2</th>\n",
       "      <td>ols_rfe_1</td>\n",
       "      <td>1.202231</td>\n",
       "      <td>0.313732</td>\n",
       "    </tr>\n",
       "    <tr>\n",
       "      <th>3</th>\n",
       "      <td>ols_all_feats</td>\n",
       "      <td>1.036071</td>\n",
       "      <td>0.490321</td>\n",
       "    </tr>\n",
       "    <tr>\n",
       "      <th>4</th>\n",
       "      <td>ols_all_feats</td>\n",
       "      <td>1.036071</td>\n",
       "      <td>0.490321</td>\n",
       "    </tr>\n",
       "    <tr>\n",
       "      <th>5</th>\n",
       "      <td>lasso</td>\n",
       "      <td>1.068651</td>\n",
       "      <td>0.457762</td>\n",
       "    </tr>\n",
       "    <tr>\n",
       "      <th>6</th>\n",
       "      <td>quad_reg</td>\n",
       "      <td>1.027969</td>\n",
       "      <td>0.498261</td>\n",
       "    </tr>\n",
       "    <tr>\n",
       "      <th>7</th>\n",
       "      <td>gamma_ols</td>\n",
       "      <td>1.073301</td>\n",
       "      <td>0.453033</td>\n",
       "    </tr>\n",
       "  </tbody>\n",
       "</table>\n",
       "</div>"
      ],
      "text/plain": [
       "           model      rmse        r2\n",
       "0       baseline  1.451246  0.000000\n",
       "1      ols_rfe_1  1.202231  0.313732\n",
       "2      ols_rfe_1  1.202231  0.313732\n",
       "3  ols_all_feats  1.036071  0.490321\n",
       "4  ols_all_feats  1.036071  0.490321\n",
       "5          lasso  1.068651  0.457762\n",
       "6       quad_reg  1.027969  0.498261\n",
       "7      gamma_ols  1.073301  0.453033"
      ]
     },
     "execution_count": 117,
     "metadata": {},
     "output_type": "execute_result"
    }
   ],
   "source": [
    "eval_df"
   ]
  },
  {
   "cell_type": "code",
   "execution_count": null,
   "id": "38c9f2fc-fd7b-4800-a42c-2e034e92f280",
   "metadata": {},
   "outputs": [],
   "source": [
    "# Quad_reg is still the best model."
   ]
  },
  {
   "cell_type": "code",
   "execution_count": null,
   "id": "d113af98-dd66-44d2-bfdc-22abf6e2bad7",
   "metadata": {},
   "outputs": [],
   "source": [
    "    #n. Evaluate on best model"
   ]
  },
  {
   "cell_type": "code",
   "execution_count": 118,
   "id": "c0bfa4c4-0a12-454b-81da-c182d16412ff",
   "metadata": {
    "tags": []
   },
   "outputs": [
    {
     "data": {
      "text/html": [
       "<div>\n",
       "<style scoped>\n",
       "    .dataframe tbody tr th:only-of-type {\n",
       "        vertical-align: middle;\n",
       "    }\n",
       "\n",
       "    .dataframe tbody tr th {\n",
       "        vertical-align: top;\n",
       "    }\n",
       "\n",
       "    .dataframe thead th {\n",
       "        text-align: right;\n",
       "    }\n",
       "</style>\n",
       "<table border=\"1\" class=\"dataframe\">\n",
       "  <thead>\n",
       "    <tr style=\"text-align: right;\">\n",
       "      <th></th>\n",
       "      <th>model</th>\n",
       "      <th>val_rmse</th>\n",
       "      <th>val_r2</th>\n",
       "    </tr>\n",
       "  </thead>\n",
       "  <tbody>\n",
       "    <tr>\n",
       "      <th>0</th>\n",
       "      <td>ols_rfe_1</td>\n",
       "      <td>1.423401</td>\n",
       "      <td>0.096140</td>\n",
       "    </tr>\n",
       "    <tr>\n",
       "      <th>1</th>\n",
       "      <td>lasso</td>\n",
       "      <td>1.087097</td>\n",
       "      <td>0.472791</td>\n",
       "    </tr>\n",
       "    <tr>\n",
       "      <th>2</th>\n",
       "      <td>quad_reg</td>\n",
       "      <td>1.137561</td>\n",
       "      <td>0.422708</td>\n",
       "    </tr>\n",
       "    <tr>\n",
       "      <th>3</th>\n",
       "      <td>gamma_ols</td>\n",
       "      <td>1.077840</td>\n",
       "      <td>0.481731</td>\n",
       "    </tr>\n",
       "  </tbody>\n",
       "</table>\n",
       "</div>"
      ],
      "text/plain": [
       "       model  val_rmse    val_r2\n",
       "0  ols_rfe_1  1.423401  0.096140\n",
       "1      lasso  1.087097  0.472791\n",
       "2   quad_reg  1.137561  0.422708\n",
       "3  gamma_ols  1.077840  0.481731"
      ]
     },
     "execution_count": 118,
     "metadata": {},
     "output_type": "execute_result"
    }
   ],
   "source": [
    "val_scores = pd.DataFrame(val_scores)\n",
    "val_scores"
   ]
  },
  {
   "cell_type": "code",
   "execution_count": 119,
   "id": "9dddc679-9035-4aaf-a590-3bc530c6c88b",
   "metadata": {
    "tags": []
   },
   "outputs": [
    {
     "data": {
      "image/png": "[encoded data removed]",
      "text/plain": [
       "<Figure size 640x480 with 1 Axes>"
      ]
     },
     "metadata": {},
     "output_type": "display_data"
    }
   ],
   "source": [
    "    #0. Plot actuals vs predicted\n",
    "\n",
    "plt.scatter(y, lr1.predict(X_train_rfe))\n",
    "plt.title('Residuals vs Actuals for Model based on Party Size')\n",
    "plt.plot(y,y, ls='-', c='r')\n",
    "plt.xlabel('Tip Amount')\n",
    "plt.ylabel('Predicted Tip Amount')\n",
    "plt.show()"
   ]
  },
  {
   "cell_type": "code",
   "execution_count": 120,
   "id": "ae2994c8-959b-46f7-8443-11eddada4623",
   "metadata": {
    "tags": []
   },
   "outputs": [
    {
     "data": {
      "image/png": "[encoded data removed]",
      "text/plain": [
       "<Figure size 640x480 with 1 Axes>"
      ]
     },
     "metadata": {},
     "output_type": "display_data"
    }
   ],
   "source": [
    "plt.scatter(y, plyreg.predict(x_train_sq))\n",
    "plt.title('Residuals vs Actuals for quadratic_model')\n",
    "plt.plot(y,y, ls='-', c='r')\n",
    "plt.xlabel('Tip Amount')\n",
    "plt.ylabel('Predicted Tip Amount')\n",
    "plt.show()\n"
   ]
  },
  {
   "cell_type": "code",
   "execution_count": null,
   "id": "f75fccd2-8cfb-4665-8353-c85cc40b5116",
   "metadata": {},
   "outputs": [],
   "source": [
    "    #p. Plotting the residuals"
   ]
  },
  {
   "cell_type": "code",
   "execution_count": 121,
   "id": "1af0dc6c-f080-4099-8f27-cb77f5d36a1f",
   "metadata": {
    "tags": []
   },
   "outputs": [
    {
     "data": {
      "image/png": "[encoded data removed]",
      "text/plain": [
       "<Figure size 640x480 with 1 Axes>"
      ]
     },
     "metadata": {},
     "output_type": "display_data"
    }
   ],
   "source": [
    "plt.scatter(y, y - lr1.predict(X_train_rfe))\n",
    "plt.title('Residuals vs Actuals for Model based on Party Size')\n",
    "plt.axhline(0, ls=':', c='r', alpha=0.4)\n",
    "plt.xlabel('Tip Ampount')\n",
    "plt.ylabel('Residuals in Tip Amount')\n",
    "plt.show()"
   ]
  },
  {
   "cell_type": "code",
   "execution_count": 122,
   "id": "e0c4b8be-a90a-4f87-83e3-efd6b707ed25",
   "metadata": {
    "tags": []
   },
   "outputs": [
    {
     "data": {
      "image/png": "[encoded data removed]",
      "text/plain": [
       "<Figure size 640x480 with 1 Axes>"
      ]
     },
     "metadata": {},
     "output_type": "display_data"
    }
   ],
   "source": [
    "plt.scatter(y, y - lr1.predict(X_train_rfe), label='rfe')\n",
    "plt.scatter(y, y - lr2.predict(X), label='ols')\n",
    "plt.scatter(y, y - plyreg.predict(x_train_sq), label='quad')\n",
    "plt.scatter(y, y - gams.predict(X), label='gamma_ols')\n",
    "plt.title('Residuals vs Actuals for Everything')\n",
    "plt.axhline(0, ls=':', c='r', alpha=0.4)\n",
    "plt.xlabel('Tip Amount')\n",
    "plt.ylabel('Residuals in Tip Amount')\n",
    "plt.legend()\n",
    "plt.show()"
   ]
  },
  {
   "cell_type": "code",
   "execution_count": null,
   "id": "6308cfea-90f5-417b-b0cd-7896efd900a1",
   "metadata": {},
   "outputs": [],
   "source": [
    "    #q. Histogram of actual and predicted values"
   ]
  },
  {
   "cell_type": "code",
   "execution_count": 123,
   "id": "3b82b73a-06ad-4ec2-aa94-ff23ff6bea56",
   "metadata": {
    "tags": []
   },
   "outputs": [
    {
     "data": {
      "text/plain": [
       "Text(0.5, 1.0, 'Distributions of Predicted Values vs Real Target')"
      ]
     },
     "execution_count": 123,
     "metadata": {},
     "output_type": "execute_result"
    },
    {
     "data": {
      "image/png": "[encoded data removed]",
      "text/plain": [
       "<Figure size 2000x1500 with 1 Axes>"
      ]
     },
     "metadata": {},
     "output_type": "display_data"
    }
   ],
   "source": [
    "plt.figure(figsize=(20,15))\n",
    "plt.hist(lr1.predict(X_train_rfe), alpha=0.5, label='rfe')\n",
    "# plt.hist(lr2.predict(X), alpha=0.5, label='ols')\n",
    "plt.hist(plyreg.predict(x_train_sq), alpha=0.5, label='quad')\n",
    "# plt.hist(gams.predict(X), alpha=0.5, label='gamma_ols')\n",
    "plt.hist(y, alpha=0.2)\n",
    "plt.legend()\n",
    "plt.title('Distributions of Predicted Values vs Real Target')"
   ]
  }
 ],
 "metadata": {
  "kernelspec": {
   "display_name": "Python 3 (ipykernel)",
   "language": "python",
   "name": "python3"
  },
  "language_info": {
   "codemirror_mode": {
    "name": "ipython",
    "version": 3
   },
   "file_extension": ".py",
   "mimetype": "text/x-python",
   "name": "python",
   "nbconvert_exporter": "python",
   "pygments_lexer": "ipython3",
   "version": "3.11.4"
  }
 },
 "nbformat": 4,
 "nbformat_minor": 5
}
